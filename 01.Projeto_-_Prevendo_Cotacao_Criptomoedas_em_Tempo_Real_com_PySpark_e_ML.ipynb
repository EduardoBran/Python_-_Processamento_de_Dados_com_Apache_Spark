{
 "cells": [
  {
   "cell_type": "markdown",
   "id": "a3a101b1",
   "metadata": {},
   "source": [
    "# <span style=\"color: green; font-size: 40px; font-weight: bold;\"> Projeto (Regressão) </span>\n",
    "\n",
    "<br> <br>\n",
    "\n",
    "# Prevendo a Cotação de Criptomoedas em Tempo Real com PySpark e Machine Learning\n",
    "\n",
    "<br>\n",
    "\n",
    "### Contexto\n",
    "\n",
    "Neste mini-projeto, vamos explorar um importante contexto de negócio na área de finanças: a **previsão da cotação de criptomoedas**. O projeto será desenvolvido desde a concepção do problema de negócio até a entrega de um modelo preditivo, utilizando ferramentas comuns de análise de dados no dia a dia de um Cientista de Dados. Apesar do foco ser em ferramentas de análise de dados, o projeto não serve como aconselhamento financeiro.\n",
    "\n",
    "<br>\n",
    "\n",
    "### Objetivo\n",
    "\n",
    "O objetivo deste mini-projeto é **construir um modelo de Machine Learning capaz de prever a cotação de criptomoedas**. Usaremos dados históricos do Bitcoin para treinar o modelo. O Bitcoin, lançado em 2009 pelo anônimo Satoshi Nakamoto, é a criptomoeda mais antiga e conhecida. Servindo como meio descentralizado de troca digital, as transações de Bitcoin são verificadas e registradas em um livro público distribuído chamado Blockchain. O modelo deve ser capaz de prever a cotação do Bitcoin em tempo real a partir de novos dados de entrada. Este projeto pode ser estendido para outras criptomoedas ou instrumentos financeiros com dados de cotação disponíveis.\n",
    "\n",
    "<br>\n",
    "\n",
    "### Pergunta de Negócio Principal\n",
    "\n",
    "> \"Como podemos prever a cotação futura do Bitcoin usando dados históricos?\"\n",
    "\n",
    "<br>\n",
    "\n",
    "### Entregável\n",
    "\n",
    "O entregável deste mini-projeto será um **modelo de Machine Learning treinado para prever a cotação do Bitcoin**. O modelo será desenvolvido utilizando dados históricos de cotação do Bitcoin e será capaz de fazer previsões em tempo real com base em novos dados de entrada. O processo incluirá a concepção do problema de negócio, preparação dos dados, desenvolvimento do modelo, e a entrega do modelo preditivo.\n",
    "\n",
    "<br>\n",
    "\n",
    "### Sobre o Conjunto de Dados\n",
    "\n",
    "Os dados utilizados neste mini-projeto abrangem o período de 2011 a 2021. O arquivo CSV contém registros OHLC (Open, High, Low, Close) da cotação do Bitcoin, Volume em BTC e Volume na moeda (dólar).\n",
    "\n",
    "A última coluna indica o preço ponderado do Bitcoin. Os carimbos de data/hora (timestamp) estão em hora Unix. Timestamps sem atividade têm seus campos de dados preenchidos com NaNs. Se estiver faltando um carimbo de data/hora ou houver saltos, isso pode ser devido à inatividade da Exchange, inexistência da Exchange, ou outros erros técnicos na coleta dos dados.\n",
    "\n",
    "Optamos por não usar dados do ano de 2022 devido à sua natureza atípica, mas você pode incluir esses dados e treinar novamente o modelo se desejar.\n",
    "\n",
    "<br>\n",
    "\n",
    "Para este projeto, utilizaremos o conjunto de dados \"Bitcoin Historical Data\", que contém quase 5 milhões de linhas e informações detalhadas sobre as transações de Bitcoin ao longo do tempo. O conjunto de dados inclui dados sobre preços de abertura, fechamento, máximo e mínimo, volume de Bitcoins negociados, volume em moeda fiduciária e preço ponderado. Além disso, uma coluna adicional dateTime foi criada para converter os timestamps Unix em um formato de data e hora legível.\n",
    "\n",
    "<br>\n",
    "\n",
    "<table border=\"2\">\n",
    "  <tr>\n",
    "    <th style=\"text-align: center; font-size: 16px;\">Nome da Coluna</th>\n",
    "    <th style=\"text-align: center; font-size: 16px;\">Tipo de Dado</th>\n",
    "    <th style=\"text-align: center; font-size: 16px;\">Descrição</th>\n",
    "  </tr>\n",
    "  <tr>\n",
    "    <td>Timestamp</td>\n",
    "    <td>integer</td>\n",
    "    <td>Representa o Unix timestamp, que é o número de segundos desde 1 de janeiro de 1970 (UTC).</td>\n",
    "  </tr>\n",
    "  <tr>\n",
    "    <td>Open</td>\n",
    "    <td>double</td>\n",
    "    <td>Preço de abertura do Bitcoin no início do período de tempo.</td>\n",
    "  </tr>\n",
    "  <tr>\n",
    "    <td>High</td>\n",
    "    <td>double</td>\n",
    "    <td>Preço mais alto do Bitcoin durante o período de tempo.</td>\n",
    "  </tr>\n",
    "  <tr>\n",
    "    <td>Low</td>\n",
    "    <td>double</td>\n",
    "    <td>Preço mais baixo do Bitcoin durante o período de tempo.</td>\n",
    "  </tr>\n",
    "  <tr>\n",
    "    <td>Close</td>\n",
    "    <td>double</td>\n",
    "    <td>Preço de fechamento do Bitcoin no final do período de tempo.</td>\n",
    "  </tr>\n",
    "  <tr>\n",
    "    <td>Volume_(BTC)</td>\n",
    "    <td>double</td>\n",
    "    <td>Volume total de Bitcoins negociados durante o período de tempo.</td>\n",
    "  </tr>\n",
    "  <tr>\n",
    "    <td>Volume_(Currency)</td>\n",
    "    <td>double</td>\n",
    "    <td>Volume total em moeda fiduciária (por exemplo, USD) das transações de Bitcoin durante o período.</td>\n",
    "  </tr>\n",
    "  <tr>\n",
    "      <td>Weighted_Price <b>(variável alvo)</b></td>\n",
    "    <td>double</td>\n",
    "    <td>Preço ponderado do Bitcoin, calculado com base nos preços e volumes das transações durante o período.</td>\n",
    "  </tr>\n",
    "  <tr>\n",
    "    <td>dateTime</td>\n",
    "    <td>string</td>\n",
    "    <td>Irá representar a data e hora no formato legível, será criada a partir do Unix timestamp. <b>(Nova Coluna)</b> </td>\n",
    "  </tr>\n",
    "</table>\n",
    "\n",
    "\n",
    "<br> <br> <br>\n",
    "\n",
    "# Importando Pacotes"
   ]
  },
  {
   "cell_type": "code",
   "execution_count": 1,
   "id": "b5196544",
   "metadata": {},
   "outputs": [
    {
     "ename": "RuntimeError",
     "evalue": "module was compiled against NumPy C-API version 0x10 (NumPy 1.23) but the running NumPy has C-API version 0xf. Check the section C-API incompatibility at the Troubleshooting ImportError section at https://numpy.org/devdocs/user/troubleshooting-importerror.html#c-api-incompatibility for indications on how to solve this problem.",
     "output_type": "error",
     "traceback": [
      "\u001b[0;31m---------------------------------------------------------------------------\u001b[0m",
      "\u001b[0;31mRuntimeError\u001b[0m                              Traceback (most recent call last)",
      "\u001b[0;31mRuntimeError\u001b[0m: module was compiled against NumPy C-API version 0x10 (NumPy 1.23) but the running NumPy has C-API version 0xf. Check the section C-API incompatibility at the Troubleshooting ImportError section at https://numpy.org/devdocs/user/troubleshooting-importerror.html#c-api-incompatibility for indications on how to solve this problem."
     ]
    }
   ],
   "source": [
    "### Imports\n",
    "\n",
    "# Importa o findspark e inicializa\n",
    "import findspark\n",
    "findspark.init()\n",
    "\n",
    "## Bibliotecas de Manipulação e Análise de Dados\n",
    "\n",
    "import pandas as pd                      # Biblioteca para manipulação e análise de dados tabulares.\n",
    "import numpy as np                       # Biblioteca para cálculos numéricos e manipulação de arrays.\n",
    "\n",
    "\n",
    "## Bibliotecas de Visualização de Dados\n",
    "\n",
    "import seaborn as sns                    # Biblioteca para visualização de dados estatísticos.\n",
    "from matplotlib import pyplot as plt     # Biblioteca para criação de gráficos e visualizações.\n",
    "\n",
    "\n",
    "## Bibliotecas Principais do PySpark\n",
    "\n",
    "import pyspark                           # Biblioteca para processamento de dados em grande escala usando clusters.\n",
    "from pyspark import SparkConf            # Configuração e criação do contexto do Spark.\n",
    "from pyspark import SparkContext         # Configuração e criação do contexto do Spark.   \n",
    "from pyspark.sql import SparkSession     # Criação e manipulação de sessões e contextos SQL no Spark.\n",
    "from pyspark.sql import SQLContext       # Criação e manipulação de sessões e contextos SQL no Spark.\n",
    "from pyspark.sql.types import *          # Tipos de dados usados na criação de schemas de DataFrames no Spark.\n",
    "from pyspark.sql.functions import *      # Funções SQL usadas para manipulação e transformação de dados no Spark.\n",
    "from pyspark.sql.functions import col, count, when, isnan\n",
    "from pyspark.sql.functions import from_unixtime, col, expr, date_format, from_utc_timestamp\n",
    "\n",
    "## Bibliotecas de Machine Learning no PySpark\n",
    "\n",
    "from pyspark.ml.linalg import Vectors         # Estruturas de dados para manipulação de vetores na MLlib do Spark.\n",
    "from pyspark.ml.feature import StringIndexer  # Transformação de variáveis categóricas em numéricas.\n",
    "from pyspark.ml.regression import LinearRegression      # Algoritmo de regressão linear na MLlib do Spark.\n",
    "from pyspark.mllib.evaluation import RegressionMetrics  # Métricas de avaliação para modelos de regressão.\n",
    "from pyspark.ml.stat import Correlation                 # Cálculo de correlações entre colunas de DataFrames.\n",
    "from pyspark.ml.feature import MinMaxScaler             # Normalização dos dados para um intervalo específico.\n",
    "from pyspark.ml.feature import VectorAssembler   # Combinação de múltiplas colunas em uma única coluna de vetores.\n",
    "from pyspark.ml import Pipeline          # Construção de pipelines de ML que consistem em uma sequência de etapas.\n",
    "from pyspark.ml.tuning import ParamGridBuilder    # Ferramentas para construção de grids de parâmetros.\n",
    "from pyspark.ml.tuning import CrossValidator      # Ferramentas para construção de validação cruzada.\n",
    "from pyspark.ml.tuning import CrossValidatorModel # Ferramentas para construção de validação cruzada.\n",
    "from pyspark.ml.feature import StandardScaler     # Normalização de dados para ter média zero e variância unitária.\n",
    "from pyspark.ml.evaluation import RegressionEvaluator  # Avaliação de modelos de regressão utilizando \n",
    "                                                       # métricas como RMSE e R2.\n",
    "    \n",
    "from pyspark.ml import Pipeline"
   ]
  },
  {
   "cell_type": "code",
   "execution_count": 2,
   "id": "8edee8fa",
   "metadata": {},
   "outputs": [],
   "source": [
    "## Formatação das saídas\n",
    "\n",
    "# Configura o Pandas para mostrar até 200 colunas ao exibir um DataFrame\n",
    "pd.set_option('display.max_columns', 200)\n",
    "\n",
    "# Configura o Pandas para mostrar até 400 caracteres por coluna ao exibir um DataFrame\n",
    "pd.set_option('display.max_colwidth', 400)\n",
    "\n",
    "# Configuramos matplotlib_axes_logger para exibir apenas mensagens de erro \n",
    "from matplotlib.axes._axes import _log as matplotlib_axes_logger\n",
    "matplotlib_axes_logger.setLevel('ERROR')"
   ]
  },
  {
   "cell_type": "code",
   "execution_count": 3,
   "id": "0a935ef0",
   "metadata": {},
   "outputs": [
    {
     "name": "stdout",
     "output_type": "stream",
     "text": [
      "Author: Data Science Academy\n",
      "\n",
      "sys       : 3.9.7 (default, Sep 16 2021, 13:09:58) \n",
      "[GCC 7.5.0]\n",
      "numpy     : 1.22.4\n",
      "seaborn   : 0.11.2\n",
      "pyspark   : 3.5.1\n",
      "matplotlib: 3.4.3\n",
      "findspark : 2.0.1\n",
      "pandas    : 1.3.5\n",
      "decimal   : 1.70\n",
      "\n"
     ]
    }
   ],
   "source": [
    "# Versões dos pacotes usados neste jupyter notebook\n",
    "%reload_ext watermark\n",
    "%watermark -a \"Data Science Academy\" --iversions"
   ]
  },
  {
   "cell_type": "markdown",
   "id": "20637352",
   "metadata": {},
   "source": [
    "<br>\n",
    "\n",
    "## Por que vamos usar o <i>PySpark</i> ao invés de utilizarmos somente <i>Linguagem Python</i>?\n",
    "\n",
    "> Antes de responder, podemos afirmar que SIM, este projeto poderia ser feito usando somente <i>Linguagem Python</i>.\n",
    "\n",
    "#### Então por que usar o PyStark?\n",
    "\n",
    "Como iremos ver a seguir, nosso conjunto de dados possui um tamanho de **317MB** e **quase 5 milhões de linhas**. Será que conseguiríamos processar esse volume de dados tão alto com Linguagem Python? Provavelmente não!\n",
    "\n",
    "<br>\n",
    "\n",
    "Portanto usaremos o **PySpark** pois o ele nos permite trabalhar em um ambiente distribuído. "
   ]
  },
  {
   "cell_type": "markdown",
   "id": "c985b686",
   "metadata": {},
   "source": [
    "<br> <br>\n",
    "\n",
    "# <span style=\"color: green; font-size: 38px; font-weight: bold;\">Preparando o Ambiente Spark</span>"
   ]
  },
  {
   "cell_type": "code",
   "execution_count": 4,
   "id": "ecf12ae6",
   "metadata": {},
   "outputs": [
    {
     "name": "stderr",
     "output_type": "stream",
     "text": [
      "24/07/13 14:04:58 WARN Utils: Your hostname, eduardo-Inspiron-15-3520 resolves to a loopback address: 127.0.1.1; using 192.168.0.13 instead (on interface wlp0s20f3)\n",
      "24/07/13 14:04:58 WARN Utils: Set SPARK_LOCAL_IP if you need to bind to another address\n",
      "Setting default log level to \"WARN\".\n",
      "To adjust logging level use sc.setLogLevel(newLevel). For SparkR, use setLogLevel(newLevel).\n",
      "24/07/13 14:04:58 WARN NativeCodeLoader: Unable to load native-hadoop library for your platform... using builtin-java classes where applicable\n"
     ]
    },
    {
     "data": {
      "text/html": [
       "\n",
       "            <div>\n",
       "                <p><b>SparkSession - in-memory</b></p>\n",
       "                \n",
       "        <div>\n",
       "            <p><b>SparkContext</b></p>\n",
       "\n",
       "            <p><a href=\"http://192.168.0.13:4040\">Spark UI</a></p>\n",
       "\n",
       "            <dl>\n",
       "              <dt>Version</dt>\n",
       "                <dd><code>v3.5.1</code></dd>\n",
       "              <dt>Master</dt>\n",
       "                <dd><code>local[*]</code></dd>\n",
       "              <dt>AppName</dt>\n",
       "                <dd><code>Mini-Projeto3</code></dd>\n",
       "            </dl>\n",
       "        </div>\n",
       "        \n",
       "            </div>\n",
       "        "
      ],
      "text/plain": [
       "<pyspark.sql.session.SparkSession at 0x7fc64519b2b0>"
      ]
     },
     "execution_count": 4,
     "metadata": {},
     "output_type": "execute_result"
    }
   ],
   "source": [
    "# Definindo semente aleatória (seed) para reprodutibilidade do notebook\n",
    "rnd_seed = 23\n",
    "np.random.seed = rnd_seed\n",
    "np.random.set_state = rnd_seed\n",
    "\n",
    "# Criando o Spark Context\n",
    "conf = SparkConf().setAppName(\"Mini-Projeto3\") \\\n",
    "                  .set(\"spark.ui.showConsoleProgress\", \"false\") \\\n",
    "                  .set(\"spark.executor.heartbeatInterval\", \"20s\") \\\n",
    "                  .set(\"spark.eventLog.enabled\", \"false\") \\\n",
    "                  .set(\"spark.sql.shuffle.partitions\", \"2\") \\\n",
    "                  .set(\"spark.sql.debug.maxToStringFields\", \"100\") \\\n",
    "                  .set(\"spark.executor.memory\", \"4g\") \\\n",
    "                  .set(\"spark.driver.memory\", \"4g\") \\\n",
    "                  .set(\"spark.driver.maxResultSize\", \"2g\")  # Configuração adicional para limitar o tamanho do resultado\n",
    "\n",
    "# Criar o Spark Context e a Spark Session\n",
    "sc = SparkContext(conf=conf)\n",
    "spark_session = SparkSession.builder.config(conf=conf).getOrCreate()\n",
    "\n",
    "# Ajustar o nível de log para ERROR\n",
    "sc.setLogLevel(\"ERROR\")\n",
    "\n",
    "# Configurar log4j para suprimir avisos (deixar como comentário e volta ao normal)\n",
    "log4j_logger = sc._jvm.org.apache.log4j\n",
    "log4j_logger.LogManager.getLogger(\"org\").setLevel(log4j_logger.Level.ERROR)\n",
    "log4j_logger.LogManager.getLogger(\"akka\").setLevel(log4j_logger.Level.ERROR)\n",
    "\n",
    "# Visualizar o objeto spark_session\n",
    "spark_session"
   ]
  },
  {
   "cell_type": "markdown",
   "id": "6bb531be",
   "metadata": {},
   "source": [
    "<br><br>\n",
    "\n",
    "# <span style=\"color: green; font-size: 38px; font-weight: bold;\">Carregando os Dados</span>"
   ]
  },
  {
   "cell_type": "code",
   "execution_count": 5,
   "id": "080ff33c",
   "metadata": {},
   "outputs": [],
   "source": [
    "# Carrega os dados a partir da sessão Spark\n",
    "df_spark = spark_session.read.csv('dados/dataset.csv', header = 'true', inferSchema = 'true')"
   ]
  },
  {
   "cell_type": "code",
   "execution_count": 6,
   "id": "2bfab5f2",
   "metadata": {},
   "outputs": [
    {
     "data": {
      "text/plain": [
       "pyspark.sql.dataframe.DataFrame"
      ]
     },
     "execution_count": 6,
     "metadata": {},
     "output_type": "execute_result"
    }
   ],
   "source": [
    "# Tipo do objeto\n",
    "type(df_spark)"
   ]
  },
  {
   "cell_type": "code",
   "execution_count": 7,
   "id": "4e8dec0d",
   "metadata": {},
   "outputs": [
    {
     "name": "stdout",
     "output_type": "stream",
     "text": [
      "+----------+----+----+----+-----+------------+-----------------+--------------+\n",
      "| Timestamp|Open|High| Low|Close|Volume_(BTC)|Volume_(Currency)|Weighted_Price|\n",
      "+----------+----+----+----+-----+------------+-----------------+--------------+\n",
      "|1325317920|4.39|4.39|4.39| 4.39|  0.45558087|     2.0000000193|          4.39|\n",
      "|1325319300| NaN| NaN| NaN|  NaN|         NaN|              NaN|           NaN|\n",
      "|1325319360| NaN| NaN| NaN|  NaN|         NaN|              NaN|           NaN|\n",
      "|1325319420| NaN| NaN| NaN|  NaN|         NaN|              NaN|           NaN|\n",
      "|1325319480| NaN| NaN| NaN|  NaN|         NaN|              NaN|           NaN|\n",
      "+----------+----+----+----+-----+------------+-----------------+--------------+\n",
      "only showing top 5 rows\n",
      "\n"
     ]
    }
   ],
   "source": [
    "# Visualiza as 5 primeiras linhas dos dados\n",
    "df_spark.show(5)"
   ]
  },
  {
   "cell_type": "code",
   "execution_count": 8,
   "id": "b55cb176",
   "metadata": {},
   "outputs": [
    {
     "name": "stdout",
     "output_type": "stream",
     "text": [
      "root\n",
      " |-- Timestamp: integer (nullable = true)\n",
      " |-- Open: double (nullable = true)\n",
      " |-- High: double (nullable = true)\n",
      " |-- Low: double (nullable = true)\n",
      " |-- Close: double (nullable = true)\n",
      " |-- Volume_(BTC): double (nullable = true)\n",
      " |-- Volume_(Currency): double (nullable = true)\n",
      " |-- Weighted_Price: double (nullable = true)\n",
      "\n"
     ]
    }
   ],
   "source": [
    "# Visualiza os metadados (schema) - similar ao info()\n",
    "df_spark.printSchema()"
   ]
  },
  {
   "cell_type": "code",
   "execution_count": 9,
   "id": "d75197b1",
   "metadata": {},
   "outputs": [],
   "source": [
    "# Converte o DataFrame do Spark para um DataFrame do Pandas (apenas se quiser)\n",
    "#df_pandas = df_spark.toPandas()\n",
    "\n",
    "# Visualiza os dados usando display()\n",
    "#display(df_pandas.head(5))"
   ]
  },
  {
   "cell_type": "markdown",
   "id": "a5539ffc",
   "metadata": {},
   "source": [
    "<br>\n",
    "\n",
    "## Renomeando Colunas"
   ]
  },
  {
   "cell_type": "code",
   "execution_count": 10,
   "id": "3719e9fa",
   "metadata": {},
   "outputs": [],
   "source": [
    "# Vamos renomear algumas colunas para facilitar a manipulação dos dados\n",
    "df_spark = df_spark.withColumnRenamed(\"Volume_(BTC)\", \"VolBTC\").withColumnRenamed(\"Volume_(Currency)\", \"VolCurrency\")"
   ]
  },
  {
   "cell_type": "markdown",
   "id": "bc7328d1",
   "metadata": {},
   "source": [
    "<br><br><br>\n",
    "\n",
    "# <span style=\"color: green; font-size: 38px; font-weight: bold;\"> Análise Exploratória Inicial dos Dados </span>\n",
    "\n",
    "<br>\n",
    "\n",
    "### Função Para Análise Inicial"
   ]
  },
  {
   "cell_type": "code",
   "execution_count": 11,
   "id": "5b2ea7b9",
   "metadata": {},
   "outputs": [
    {
     "name": "stdout",
     "output_type": "stream",
     "text": [
      "\n",
      "\n",
      " INFO (schema)\n",
      "\n",
      "\n",
      "root\n",
      " |-- Timestamp: integer (nullable = true)\n",
      " |-- Open: double (nullable = true)\n",
      " |-- High: double (nullable = true)\n",
      " |-- Low: double (nullable = true)\n",
      " |-- Close: double (nullable = true)\n",
      " |-- VolBTC: double (nullable = true)\n",
      " |-- VolCurrency: double (nullable = true)\n",
      " |-- Weighted_Price: double (nullable = true)\n",
      "\n",
      "\n",
      "\n",
      " ------------------------------------------------------------------------------------------ \n",
      "\n",
      "\n",
      "Número de Linhas: 4856600\n",
      "\n",
      "\n",
      " TOTAL DE VALORES NaN por Coluna \n",
      "\n",
      "+---------+-------+-------+-------+-------+-------+-----------+--------------+\n",
      "|Timestamp|   Open|   High|    Low|  Close| VolBTC|VolCurrency|Weighted_Price|\n",
      "+---------+-------+-------+-------+-------+-------+-----------+--------------+\n",
      "|        0|1242831|1242831|1242831|1242831|1242831|    1242831|       1242831|\n",
      "+---------+-------+-------+-------+-------+-------+-----------+--------------+\n",
      "\n",
      "\n",
      "\n",
      "Existem valores ausentes: True\n",
      "\n",
      "Variáveis com valores ausentes: ['Open', 'High', 'Low', 'Close', 'VolBTC', 'VolCurrency', 'Weighted_Price']\n",
      "\n",
      "Total de Linhas com Valores Ausentes: 1242831\n",
      "\n",
      "Porcentagem de Linhas Com Valor Ausente: 25.59%\n",
      "\n",
      "\n",
      "\n",
      "Existem valores duplicados: False\n",
      "\n",
      "Nenhuma variável possui valores duplicados.\n",
      "\n"
     ]
    }
   ],
   "source": [
    "def analise_inicial(df):\n",
    "    # Exibir o schema do DataFrame\n",
    "    print('\\n\\n INFO (schema)\\n\\n')\n",
    "    df.printSchema()\n",
    "    \n",
    "    print('\\n\\n ------------------------------------------------------------------------------------------ \\n\\n')\n",
    "    \n",
    "    # Número de linhas\n",
    "    print(\"Número de Linhas:\", df.count())\n",
    "\n",
    "    # Verificar valores ausentes em cada coluna\n",
    "    print('\\n\\n TOTAL DE VALORES NaN por Coluna \\n')\n",
    "    valores_ausentes = df.select([count(when(col(c).isNull() | isnan(c), c)).alias(c) for c in df.columns])\n",
    "    valores_ausentes.show()\n",
    "\n",
    "    # Verificar se existe alguma variável com valores ausentes\n",
    "    valores_ausentes_boolean = any(row[c] > 0 for row in valores_ausentes.collect() for c in df.columns)\n",
    "\n",
    "    # Nomes das variáveis com valores ausentes\n",
    "    variaveis_ausentes = [c for c in df.columns if df.filter(col(c).isNull() | isnan(c)).count() > 0]\n",
    "\n",
    "    # Número de linhas duplicadas\n",
    "    num_linhas_total = df.count()\n",
    "    num_linhas_distintas = df.distinct().count()\n",
    "    num_linhas_duplicadas = num_linhas_total - num_linhas_distintas\n",
    "\n",
    "    # Porcentagem de linhas duplicadas\n",
    "    porcentagem_linhas_duplicadas = (num_linhas_duplicadas / num_linhas_total) * 100\n",
    "\n",
    "    # Total de linhas com pelo menos um valor ausente\n",
    "    total_linhas_ausentes = df.filter(\n",
    "        \" OR \".join([f\"(`{c}` IS NULL OR isnan(`{c}`))\" for c in df.columns])\n",
    "    ).count()\n",
    "\n",
    "    # Porcentagem de linhas com pelo menos um valor ausente\n",
    "    porcentagem_linhas_ausentes = (total_linhas_ausentes / num_linhas_total) * 100\n",
    "\n",
    "    # Exibe o resultado\n",
    "    print(\"\\n\\nExistem valores ausentes:\", valores_ausentes_boolean)\n",
    "    \n",
    "    if valores_ausentes_boolean:\n",
    "        print(\"\\nVariáveis com valores ausentes:\", variaveis_ausentes)\n",
    "        print(\"\\nTotal de Linhas com Valores Ausentes:\", total_linhas_ausentes)\n",
    "        print(\"\\nPorcentagem de Linhas Com Valor Ausente: {:.2f}%\".format(porcentagem_linhas_ausentes))\n",
    "    else:\n",
    "        print(\"\\nNenhuma variável possui valores ausentes.\")\n",
    "\n",
    "    print(\"\\n\\n\\nExistem valores duplicados:\", num_linhas_duplicadas > 0)\n",
    "    \n",
    "    if num_linhas_duplicadas > 0:\n",
    "        print(\"\\nNúmero de Linhas Duplicadas:\", num_linhas_duplicadas)\n",
    "        print(\"\\nPorcentagem de Linhas Duplicadas: {:.2f}%\\n\".format(porcentagem_linhas_duplicadas))\n",
    "    else:\n",
    "        print(\"\\nNenhuma variável possui valores duplicados.\\n\")\n",
    "\n",
    "# Exemplo de uso da função com o DataFrame df_spark\n",
    "analise_inicial(df_spark)"
   ]
  },
  {
   "cell_type": "markdown",
   "id": "8d48c461",
   "metadata": {},
   "source": [
    "<br><br>\n",
    "\n",
    "# Visualizando os Tipos dos Dados Separadamente\n",
    "\n",
    "<br>\n",
    "\n",
    "#### Visualizando Variáveis Categóricas e Numéricas\n",
    "\n",
    "- Todas as variáveis são numéricas neste dataframe\n",
    "- Dados com problemas evidentes como valores NaN e colunas como 'Timestamp' representando data."
   ]
  },
  {
   "cell_type": "markdown",
   "id": "af763322",
   "metadata": {},
   "source": [
    "<br><br>\n",
    "\n",
    "## Analisando Todas as Variáveis\n",
    "\n",
    "#### Resumo Estatístico"
   ]
  },
  {
   "cell_type": "code",
   "execution_count": 12,
   "id": "3f867296",
   "metadata": {},
   "outputs": [
    {
     "name": "stdout",
     "output_type": "stream",
     "text": [
      "+-------+-------------------+-------+-------+-------+-------+-------+-----------+--------------+\n",
      "|summary|          Timestamp|   Open|   High|    Low|  Close| VolBTC|VolCurrency|Weighted_Price|\n",
      "+-------+-------------------+-------+-------+-------+-------+-------+-----------+--------------+\n",
      "|  count|            4856600|4856600|4856600|4856600|4856600|4856600|    4856600|       4856600|\n",
      "|   mean|1.471324115749862E9|    NaN|    NaN|    NaN|    NaN|    NaN|        NaN|           NaN|\n",
      "| stddev|8.426671569710898E7|    NaN|    NaN|    NaN|    NaN|    NaN|        NaN|           NaN|\n",
      "|    min|         1325317920|    3.8|    3.8|    1.5|    1.5|    0.0|        0.0|           3.8|\n",
      "|    max|         1617148800|    NaN|    NaN|    NaN|    NaN|    NaN|        NaN|           NaN|\n",
      "+-------+-------------------+-------+-------+-------+-------+-------+-----------+--------------+\n",
      "\n"
     ]
    }
   ],
   "source": [
    "# Visualizar o resumo estatístico do DataFrame\n",
    "df_spark.describe().show()"
   ]
  },
  {
   "cell_type": "markdown",
   "id": "091f794c",
   "metadata": {},
   "source": [
    "<br> <br> <br>\n",
    "# <span style=\"color: green; font-size: 38px; font-weight: bold;\"> Criando Tabela Temporária </span>\n",
    "\n",
    "- As tabelas temporárias são úteis quando você deseja que o conjunto de resultados fique visível para todas as outras sessões Spark"
   ]
  },
  {
   "cell_type": "code",
   "execution_count": 13,
   "id": "fda5a058",
   "metadata": {},
   "outputs": [],
   "source": [
    "# Cria uma tabela temporária a partir do dataframe (se não existir, ele cria)\n",
    "df_spark.createOrReplaceTempView('dados_bitcoin') "
   ]
  },
  {
   "cell_type": "code",
   "execution_count": 14,
   "id": "cdd9f891",
   "metadata": {},
   "outputs": [
    {
     "name": "stdout",
     "output_type": "stream",
     "text": [
      "+----------+----+----+----+-----+----------+------------+--------------+\n",
      "| Timestamp|Open|High| Low|Close|    VolBTC| VolCurrency|Weighted_Price|\n",
      "+----------+----+----+----+-----+----------+------------+--------------+\n",
      "|1325317920|4.39|4.39|4.39| 4.39|0.45558087|2.0000000193|          4.39|\n",
      "|1325319300| NaN| NaN| NaN|  NaN|       NaN|         NaN|           NaN|\n",
      "|1325319360| NaN| NaN| NaN|  NaN|       NaN|         NaN|           NaN|\n",
      "|1325319420| NaN| NaN| NaN|  NaN|       NaN|         NaN|           NaN|\n",
      "|1325319480| NaN| NaN| NaN|  NaN|       NaN|         NaN|           NaN|\n",
      "|1325319540| NaN| NaN| NaN|  NaN|       NaN|         NaN|           NaN|\n",
      "|1325319600| NaN| NaN| NaN|  NaN|       NaN|         NaN|           NaN|\n",
      "|1325319660| NaN| NaN| NaN|  NaN|       NaN|         NaN|           NaN|\n",
      "|1325345040| NaN| NaN| NaN|  NaN|       NaN|         NaN|           NaN|\n",
      "|1325345100| NaN| NaN| NaN|  NaN|       NaN|         NaN|           NaN|\n",
      "|1325345160| NaN| NaN| NaN|  NaN|       NaN|         NaN|           NaN|\n",
      "|1325345220| NaN| NaN| NaN|  NaN|       NaN|         NaN|           NaN|\n",
      "|1325345280| NaN| NaN| NaN|  NaN|       NaN|         NaN|           NaN|\n",
      "|1325345340| NaN| NaN| NaN|  NaN|       NaN|         NaN|           NaN|\n",
      "|1325345400| NaN| NaN| NaN|  NaN|       NaN|         NaN|           NaN|\n",
      "|1325345460| NaN| NaN| NaN|  NaN|       NaN|         NaN|           NaN|\n",
      "|1325345520| NaN| NaN| NaN|  NaN|       NaN|         NaN|           NaN|\n",
      "|1325345580| NaN| NaN| NaN|  NaN|       NaN|         NaN|           NaN|\n",
      "|1325345640| NaN| NaN| NaN|  NaN|       NaN|         NaN|           NaN|\n",
      "|1325345700| NaN| NaN| NaN|  NaN|       NaN|         NaN|           NaN|\n",
      "+----------+----+----+----+-----+----------+------------+--------------+\n",
      "only showing top 20 rows\n",
      "\n",
      "None\n"
     ]
    }
   ],
   "source": [
    "# Executa a Consulta SQL e Cria um Novo DataFrame\n",
    "dados = spark_session.sql(\"SELECT * FROM dados_bitcoin\")\n",
    "\n",
    "print(dados.show())"
   ]
  },
  {
   "cell_type": "code",
   "execution_count": 15,
   "id": "91420abd",
   "metadata": {},
   "outputs": [
    {
     "data": {
      "text/plain": [
       "4856600"
      ]
     },
     "execution_count": 15,
     "metadata": {},
     "output_type": "execute_result"
    }
   ],
   "source": [
    "dados.count()"
   ]
  },
  {
   "cell_type": "markdown",
   "id": "437923fb",
   "metadata": {},
   "source": [
    "<br> <br>\n",
    "\n",
    "# <span style=\"color: green; font-size: 38px; font-weight: bold;\">Limpeza nos Dados</span>\n",
    "\n",
    "<br>\n",
    "\n",
    "### Tratando Valores Ausentes\n",
    "\n",
    "- Iremos remover todas as linhas com valores ausentes (não faz sentido qualquer tratamento aqui, pois todas as colunas de cotações estão como NaN)"
   ]
  },
  {
   "cell_type": "code",
   "execution_count": 16,
   "id": "f25355c8",
   "metadata": {},
   "outputs": [
    {
     "data": {
      "text/plain": [
       "3613769"
      ]
     },
     "execution_count": 16,
     "metadata": {},
     "output_type": "execute_result"
    }
   ],
   "source": [
    "# Remove valores NA \n",
    "dados = dados.dropna('any')\n",
    "\n",
    "# Quantidade de Linha\n",
    "dados.count()"
   ]
  },
  {
   "cell_type": "markdown",
   "id": "d9fc0b63",
   "metadata": {},
   "source": [
    "<br><br>\n",
    "\n",
    "# <span style=\"color: green; font-size: 38px; font-weight: bold;\">Features Engineering</span>\n",
    "\n",
    "<br> <br>\n",
    "\n",
    "### Criando nova variável: datetime\n",
    "\n",
    "- Criada a partir da transformação da coluna <i>Timestamp</i> utilizando a função <i>from_unixtime</i>."
   ]
  },
  {
   "cell_type": "code",
   "execution_count": 17,
   "id": "9629e446",
   "metadata": {},
   "outputs": [
    {
     "name": "stdout",
     "output_type": "stream",
     "text": [
      "root\n",
      " |-- Timestamp: integer (nullable = true)\n",
      " |-- Open: double (nullable = true)\n",
      " |-- High: double (nullable = true)\n",
      " |-- Low: double (nullable = true)\n",
      " |-- Close: double (nullable = true)\n",
      " |-- VolBTC: double (nullable = true)\n",
      " |-- VolCurrency: double (nullable = true)\n",
      " |-- Weighted_Price: double (nullable = true)\n",
      " |-- dateTime: string (nullable = true)\n",
      "\n",
      "None\n",
      "\n",
      "------------------------------------------------------------------------------------\n",
      "\n",
      "+----------+----+----+----+-----+----------+------------+--------------+-------------------+\n",
      "| Timestamp|Open|High| Low|Close|    VolBTC| VolCurrency|Weighted_Price|           dateTime|\n",
      "+----------+----+----+----+-----+----------+------------+--------------+-------------------+\n",
      "|1325317920|4.39|4.39|4.39| 4.39|0.45558087|2.0000000193|          4.39|2011-12-30 23:52:00|\n",
      "|1325346600|4.39|4.39|4.39| 4.39|      48.0|      210.72|          4.39|2011-12-31 07:50:00|\n",
      "+----------+----+----+----+-----+----------+------------+--------------+-------------------+\n",
      "only showing top 2 rows\n",
      "\n",
      "None\n"
     ]
    }
   ],
   "source": [
    "# Adicionar uma nova coluna 'dateTime' (na forma original, com fuso horário automático brasileiro)\n",
    "#dados = dados.withColumn('dateTime', from_unixtime(col('Timestamp')))\n",
    "\n",
    "# Adicionando uma nova coluna 'dateTime' (com fuso hoŕario americano detectando automaticamente horário de verão)\n",
    "#dados_usa = dados_usa.withColumn('dateTime_ET', from_utc_timestamp(col('dateTime'), 'America/New_York'))\n",
    "\n",
    "# Adicionar uma nova coluna 'dateTime_ET' ajustada para o fuso horário ET (Eastern Time), sem considerar horário de verão (fixo UTC-5)\n",
    "# PARTICULARIDADE para este projeto!\n",
    "dados = dados.withColumn('dateTime', date_format((from_unixtime(col('Timestamp')).cast(\"timestamp\") + expr('INTERVAL -6 HOURS')), 'yyyy-MM-dd HH:mm:ss'))\n",
    "\n",
    "print(dados.printSchema())\n",
    "\n",
    "print('\\n------------------------------------------------------------------------------------\\n')\n",
    "\n",
    "print(dados.show(2))"
   ]
  },
  {
   "cell_type": "markdown",
   "id": "7b9e8aea",
   "metadata": {},
   "source": [
    "<br>\n",
    "\n",
    "### Criando nova variável: date\n",
    "\n",
    "- Criada a partir da transformação da coluna <i>dateTime</i>, extraindo a parte da data.."
   ]
  },
  {
   "cell_type": "code",
   "execution_count": 18,
   "id": "58bb7e63",
   "metadata": {},
   "outputs": [
    {
     "name": "stdout",
     "output_type": "stream",
     "text": [
      "+----------+----+----+----+-----+-----------+------------+--------------+-------------------+----------+\n",
      "| Timestamp|Open|High| Low|Close|     VolBTC| VolCurrency|Weighted_Price|           dateTime|      date|\n",
      "+----------+----+----+----+-----+-----------+------------+--------------+-------------------+----------+\n",
      "|1325317920|4.39|4.39|4.39| 4.39| 0.45558087|2.0000000193|          4.39|2011-12-30 23:52:00|2011-12-30|\n",
      "|1325346600|4.39|4.39|4.39| 4.39|       48.0|      210.72|          4.39|2011-12-31 07:50:00|2011-12-31|\n",
      "|1325350740| 4.5|4.57| 4.5| 4.57|37.86229723|171.38033753|  4.5264114983|2011-12-31 08:59:00|2011-12-31|\n",
      "|1325350800|4.58|4.58|4.58| 4.58|        9.0|       41.22|          4.58|2011-12-31 09:00:00|2011-12-31|\n",
      "|1325391360|4.58|4.58|4.58| 4.58|      1.502|     6.87916|          4.58|2011-12-31 20:16:00|2011-12-31|\n",
      "+----------+----+----+----+-----+-----------+------------+--------------+-------------------+----------+\n",
      "only showing top 5 rows\n",
      "\n",
      "None\n"
     ]
    }
   ],
   "source": [
    "# Adicionar uma nova coluna 'data'\n",
    "dados = dados.withColumn(\"date\", split(col(\"dateTime\"), \" \").getItem(0))\n",
    "\n",
    "print(dados.show(5))"
   ]
  },
  {
   "cell_type": "markdown",
   "id": "e17b399f",
   "metadata": {},
   "source": [
    "<br>\n",
    "\n",
    "### Criando nova variável: time\n",
    "\n",
    "- Criada a partir da transformação da coluna <i>dateTime</i>, extraindo a parte do tempo."
   ]
  },
  {
   "cell_type": "code",
   "execution_count": 19,
   "id": "f3573ccc",
   "metadata": {},
   "outputs": [
    {
     "name": "stdout",
     "output_type": "stream",
     "text": [
      "+----------+----+----+----+-----+----------+------------+--------------+-------------------+----------+--------+\n",
      "| Timestamp|Open|High| Low|Close|    VolBTC| VolCurrency|Weighted_Price|           dateTime|      date|    time|\n",
      "+----------+----+----+----+-----+----------+------------+--------------+-------------------+----------+--------+\n",
      "|1325317920|4.39|4.39|4.39| 4.39|0.45558087|2.0000000193|          4.39|2011-12-30 23:52:00|2011-12-30|23:52:00|\n",
      "|1325346600|4.39|4.39|4.39| 4.39|      48.0|      210.72|          4.39|2011-12-31 07:50:00|2011-12-31|07:50:00|\n",
      "+----------+----+----+----+-----+----------+------------+--------------+-------------------+----------+--------+\n",
      "only showing top 2 rows\n",
      "\n",
      "None\n"
     ]
    }
   ],
   "source": [
    "# Adicionar uma nova coluna 'time'\n",
    "dados = dados.withColumn(\"time\", split(col(\"dateTime\"), \" \").getItem(1))\n",
    "\n",
    "print(dados.show(2))"
   ]
  },
  {
   "cell_type": "markdown",
   "id": "5f3cbddb",
   "metadata": {},
   "source": [
    "<br>\n",
    "\n",
    "### Criando nova variável: hour\n",
    "\n",
    "- Criada a partir da transformação da coluna <i>time</i>, extraindo a hora."
   ]
  },
  {
   "cell_type": "code",
   "execution_count": 20,
   "id": "d4bbf76a",
   "metadata": {},
   "outputs": [
    {
     "name": "stdout",
     "output_type": "stream",
     "text": [
      "+----------+----+----+----+-----+----------+------------+--------------+-------------------+----------+--------+----+\n",
      "| Timestamp|Open|High| Low|Close|    VolBTC| VolCurrency|Weighted_Price|           dateTime|      date|    time|hour|\n",
      "+----------+----+----+----+-----+----------+------------+--------------+-------------------+----------+--------+----+\n",
      "|1325317920|4.39|4.39|4.39| 4.39|0.45558087|2.0000000193|          4.39|2011-12-30 23:52:00|2011-12-30|23:52:00|  23|\n",
      "|1325346600|4.39|4.39|4.39| 4.39|      48.0|      210.72|          4.39|2011-12-31 07:50:00|2011-12-31|07:50:00|  07|\n",
      "+----------+----+----+----+-----+----------+------------+--------------+-------------------+----------+--------+----+\n",
      "only showing top 2 rows\n",
      "\n",
      "None\n"
     ]
    }
   ],
   "source": [
    "# Adicionar uma nova coluna 'hour'\n",
    "dados = dados.withColumn(\"hour\", split(col(\"time\"), \":\").getItem(0))\n",
    "\n",
    "print(dados.show(2))"
   ]
  },
  {
   "cell_type": "markdown",
   "id": "266e80b1",
   "metadata": {},
   "source": [
    "<br>\n",
    "\n",
    "### Criando nova variável: day_of_week\n",
    "\n",
    "- Criada a partir do ajuste do formato das colunas data e extrai o dia da semana (está convertendo o tipo de dados de três colunas: \"date\", \"hour\" e \"dateTime\")."
   ]
  },
  {
   "cell_type": "code",
   "execution_count": 21,
   "id": "a488239d",
   "metadata": {},
   "outputs": [
    {
     "name": "stdout",
     "output_type": "stream",
     "text": [
      "+----------+----+----+----+-----+----------+------------+--------------+----------+----------+--------+----+-----------+\n",
      "| Timestamp|Open|High| Low|Close|    VolBTC| VolCurrency|Weighted_Price|  dateTime|      date|    time|hour|day_of_week|\n",
      "+----------+----+----+----+-----+----------+------------+--------------+----------+----------+--------+----+-----------+\n",
      "|1325317920|4.39|4.39|4.39| 4.39|0.45558087|2.0000000193|          4.39|2011-12-30|2011-12-30|23:52:00|23.0|          6|\n",
      "|1325346600|4.39|4.39|4.39| 4.39|      48.0|      210.72|          4.39|2011-12-31|2011-12-31|07:50:00| 7.0|          7|\n",
      "+----------+----+----+----+-----+----------+------------+--------------+----------+----------+--------+----+-----------+\n",
      "only showing top 2 rows\n",
      "\n",
      "None\n"
     ]
    }
   ],
   "source": [
    "# Vamos ajustar o formato da data para extrair o dia da semana\n",
    "dados = dados.withColumn(\"date\", dados[\"date\"].cast(DateType())).withColumn(\"hour\", dados[\"hour\"].cast(DoubleType())).withColumn(\"dateTime\", dados[\"dateTime\"].cast(DateType()))\n",
    "\n",
    "# Vamos extrair o dia da semana\n",
    "dados = dados.withColumn('day_of_week', dayofweek(dados['date']))\n",
    "\n",
    "print(dados.show(2))"
   ]
  },
  {
   "cell_type": "markdown",
   "id": "31e6a497",
   "metadata": {},
   "source": [
    "<br>\n",
    "\n",
    "### Criando nova variável: year\n",
    "\n",
    "- Representa o ano da cotação"
   ]
  },
  {
   "cell_type": "code",
   "execution_count": 22,
   "id": "21d353ce",
   "metadata": {},
   "outputs": [
    {
     "name": "stdout",
     "output_type": "stream",
     "text": [
      "+----------+----+----+----+-----+-----------+------------+--------------+----------+----------+--------+----+-----------+----+\n",
      "| Timestamp|Open|High| Low|Close|     VolBTC| VolCurrency|Weighted_Price|  dateTime|      date|    time|hour|day_of_week|year|\n",
      "+----------+----+----+----+-----+-----------+------------+--------------+----------+----------+--------+----+-----------+----+\n",
      "|1325317920|4.39|4.39|4.39| 4.39| 0.45558087|2.0000000193|          4.39|2011-12-30|2011-12-30|23:52:00|23.0|          6|2011|\n",
      "|1325346600|4.39|4.39|4.39| 4.39|       48.0|      210.72|          4.39|2011-12-31|2011-12-31|07:50:00| 7.0|          7|2011|\n",
      "|1325350740| 4.5|4.57| 4.5| 4.57|37.86229723|171.38033753|  4.5264114983|2011-12-31|2011-12-31|08:59:00| 8.0|          7|2011|\n",
      "|1325350800|4.58|4.58|4.58| 4.58|        9.0|       41.22|          4.58|2011-12-31|2011-12-31|09:00:00| 9.0|          7|2011|\n",
      "|1325391360|4.58|4.58|4.58| 4.58|      1.502|     6.87916|          4.58|2011-12-31|2011-12-31|20:16:00|20.0|          7|2011|\n",
      "+----------+----+----+----+-----+-----------+------------+--------------+----------+----------+--------+----+-----------+----+\n",
      "only showing top 5 rows\n",
      "\n",
      "None\n"
     ]
    }
   ],
   "source": [
    "# Vamos extrair o ano da cotação\n",
    "dados = dados.withColumn(\"year\", split(col(\"date\"),\"-\").getItem(0))\n",
    "\n",
    "print(dados.show(5))"
   ]
  },
  {
   "cell_type": "code",
   "execution_count": 23,
   "id": "e09b575c",
   "metadata": {},
   "outputs": [
    {
     "name": "stdout",
     "output_type": "stream",
     "text": [
      "root\n",
      " |-- Timestamp: integer (nullable = true)\n",
      " |-- Open: double (nullable = true)\n",
      " |-- High: double (nullable = true)\n",
      " |-- Low: double (nullable = true)\n",
      " |-- Close: double (nullable = true)\n",
      " |-- VolBTC: double (nullable = true)\n",
      " |-- VolCurrency: double (nullable = true)\n",
      " |-- Weighted_Price: double (nullable = true)\n",
      " |-- dateTime: date (nullable = true)\n",
      " |-- date: date (nullable = true)\n",
      " |-- time: string (nullable = true)\n",
      " |-- hour: double (nullable = true)\n",
      " |-- day_of_week: integer (nullable = true)\n",
      " |-- year: string (nullable = true)\n",
      "\n",
      "None\n"
     ]
    }
   ],
   "source": [
    "# Verificando colunas\n",
    "print(dados.printSchema())"
   ]
  },
  {
   "cell_type": "markdown",
   "id": "5ecb4c1e",
   "metadata": {},
   "source": [
    "<br> <br> <br>\n",
    "\n",
    "# Convertendo o dataframe do <i>Spark</i> para o <i>Pandas</i>\n",
    "\n",
    "- Isso é feito para facilitar a análise."
   ]
  },
  {
   "cell_type": "code",
   "execution_count": 24,
   "id": "2d7f7ac4",
   "metadata": {},
   "outputs": [
    {
     "data": {
      "text/html": [
       "<div>\n",
       "<style scoped>\n",
       "    .dataframe tbody tr th:only-of-type {\n",
       "        vertical-align: middle;\n",
       "    }\n",
       "\n",
       "    .dataframe tbody tr th {\n",
       "        vertical-align: top;\n",
       "    }\n",
       "\n",
       "    .dataframe thead th {\n",
       "        text-align: right;\n",
       "    }\n",
       "</style>\n",
       "<table border=\"1\" class=\"dataframe\">\n",
       "  <thead>\n",
       "    <tr style=\"text-align: right;\">\n",
       "      <th></th>\n",
       "      <th>Timestamp</th>\n",
       "      <th>Open</th>\n",
       "      <th>High</th>\n",
       "      <th>Low</th>\n",
       "      <th>Close</th>\n",
       "      <th>VolBTC</th>\n",
       "      <th>VolCurrency</th>\n",
       "      <th>Weighted_Price</th>\n",
       "      <th>dateTime</th>\n",
       "      <th>date</th>\n",
       "      <th>time</th>\n",
       "      <th>hour</th>\n",
       "      <th>day_of_week</th>\n",
       "      <th>year</th>\n",
       "    </tr>\n",
       "  </thead>\n",
       "  <tbody>\n",
       "    <tr>\n",
       "      <th>0</th>\n",
       "      <td>1325317920</td>\n",
       "      <td>4.39</td>\n",
       "      <td>4.39</td>\n",
       "      <td>4.39</td>\n",
       "      <td>4.39</td>\n",
       "      <td>0.455581</td>\n",
       "      <td>2.000000</td>\n",
       "      <td>4.390000</td>\n",
       "      <td>2011-12-30</td>\n",
       "      <td>2011-12-30</td>\n",
       "      <td>23:52:00</td>\n",
       "      <td>23.0</td>\n",
       "      <td>6</td>\n",
       "      <td>2011</td>\n",
       "    </tr>\n",
       "    <tr>\n",
       "      <th>1</th>\n",
       "      <td>1325346600</td>\n",
       "      <td>4.39</td>\n",
       "      <td>4.39</td>\n",
       "      <td>4.39</td>\n",
       "      <td>4.39</td>\n",
       "      <td>48.000000</td>\n",
       "      <td>210.720000</td>\n",
       "      <td>4.390000</td>\n",
       "      <td>2011-12-31</td>\n",
       "      <td>2011-12-31</td>\n",
       "      <td>07:50:00</td>\n",
       "      <td>7.0</td>\n",
       "      <td>7</td>\n",
       "      <td>2011</td>\n",
       "    </tr>\n",
       "    <tr>\n",
       "      <th>2</th>\n",
       "      <td>1325350740</td>\n",
       "      <td>4.50</td>\n",
       "      <td>4.57</td>\n",
       "      <td>4.50</td>\n",
       "      <td>4.57</td>\n",
       "      <td>37.862297</td>\n",
       "      <td>171.380338</td>\n",
       "      <td>4.526411</td>\n",
       "      <td>2011-12-31</td>\n",
       "      <td>2011-12-31</td>\n",
       "      <td>08:59:00</td>\n",
       "      <td>8.0</td>\n",
       "      <td>7</td>\n",
       "      <td>2011</td>\n",
       "    </tr>\n",
       "    <tr>\n",
       "      <th>3</th>\n",
       "      <td>1325350800</td>\n",
       "      <td>4.58</td>\n",
       "      <td>4.58</td>\n",
       "      <td>4.58</td>\n",
       "      <td>4.58</td>\n",
       "      <td>9.000000</td>\n",
       "      <td>41.220000</td>\n",
       "      <td>4.580000</td>\n",
       "      <td>2011-12-31</td>\n",
       "      <td>2011-12-31</td>\n",
       "      <td>09:00:00</td>\n",
       "      <td>9.0</td>\n",
       "      <td>7</td>\n",
       "      <td>2011</td>\n",
       "    </tr>\n",
       "    <tr>\n",
       "      <th>4</th>\n",
       "      <td>1325391360</td>\n",
       "      <td>4.58</td>\n",
       "      <td>4.58</td>\n",
       "      <td>4.58</td>\n",
       "      <td>4.58</td>\n",
       "      <td>1.502000</td>\n",
       "      <td>6.879160</td>\n",
       "      <td>4.580000</td>\n",
       "      <td>2011-12-31</td>\n",
       "      <td>2011-12-31</td>\n",
       "      <td>20:16:00</td>\n",
       "      <td>20.0</td>\n",
       "      <td>7</td>\n",
       "      <td>2011</td>\n",
       "    </tr>\n",
       "    <tr>\n",
       "      <th>...</th>\n",
       "      <td>...</td>\n",
       "      <td>...</td>\n",
       "      <td>...</td>\n",
       "      <td>...</td>\n",
       "      <td>...</td>\n",
       "      <td>...</td>\n",
       "      <td>...</td>\n",
       "      <td>...</td>\n",
       "      <td>...</td>\n",
       "      <td>...</td>\n",
       "      <td>...</td>\n",
       "      <td>...</td>\n",
       "      <td>...</td>\n",
       "      <td>...</td>\n",
       "    </tr>\n",
       "    <tr>\n",
       "      <th>3613764</th>\n",
       "      <td>1617148560</td>\n",
       "      <td>58714.31</td>\n",
       "      <td>58714.31</td>\n",
       "      <td>58686.00</td>\n",
       "      <td>58686.00</td>\n",
       "      <td>1.384487</td>\n",
       "      <td>81259.372187</td>\n",
       "      <td>58692.753339</td>\n",
       "      <td>2021-03-30</td>\n",
       "      <td>2021-03-30</td>\n",
       "      <td>14:56:00</td>\n",
       "      <td>14.0</td>\n",
       "      <td>3</td>\n",
       "      <td>2021</td>\n",
       "    </tr>\n",
       "    <tr>\n",
       "      <th>3613765</th>\n",
       "      <td>1617148620</td>\n",
       "      <td>58683.97</td>\n",
       "      <td>58693.43</td>\n",
       "      <td>58683.97</td>\n",
       "      <td>58685.81</td>\n",
       "      <td>7.294848</td>\n",
       "      <td>428158.146640</td>\n",
       "      <td>58693.226508</td>\n",
       "      <td>2021-03-30</td>\n",
       "      <td>2021-03-30</td>\n",
       "      <td>14:57:00</td>\n",
       "      <td>14.0</td>\n",
       "      <td>3</td>\n",
       "      <td>2021</td>\n",
       "    </tr>\n",
       "    <tr>\n",
       "      <th>3613766</th>\n",
       "      <td>1617148680</td>\n",
       "      <td>58693.43</td>\n",
       "      <td>58723.84</td>\n",
       "      <td>58693.43</td>\n",
       "      <td>58723.84</td>\n",
       "      <td>1.705682</td>\n",
       "      <td>100117.070370</td>\n",
       "      <td>58696.198496</td>\n",
       "      <td>2021-03-30</td>\n",
       "      <td>2021-03-30</td>\n",
       "      <td>14:58:00</td>\n",
       "      <td>14.0</td>\n",
       "      <td>3</td>\n",
       "      <td>2021</td>\n",
       "    </tr>\n",
       "    <tr>\n",
       "      <th>3613767</th>\n",
       "      <td>1617148740</td>\n",
       "      <td>58742.18</td>\n",
       "      <td>58770.38</td>\n",
       "      <td>58742.18</td>\n",
       "      <td>58760.59</td>\n",
       "      <td>0.720415</td>\n",
       "      <td>42332.958633</td>\n",
       "      <td>58761.866202</td>\n",
       "      <td>2021-03-30</td>\n",
       "      <td>2021-03-30</td>\n",
       "      <td>14:59:00</td>\n",
       "      <td>14.0</td>\n",
       "      <td>3</td>\n",
       "      <td>2021</td>\n",
       "    </tr>\n",
       "    <tr>\n",
       "      <th>3613768</th>\n",
       "      <td>1617148800</td>\n",
       "      <td>58767.75</td>\n",
       "      <td>58778.18</td>\n",
       "      <td>58755.97</td>\n",
       "      <td>58778.18</td>\n",
       "      <td>2.712831</td>\n",
       "      <td>159417.751000</td>\n",
       "      <td>58764.349363</td>\n",
       "      <td>2021-03-30</td>\n",
       "      <td>2021-03-30</td>\n",
       "      <td>15:00:00</td>\n",
       "      <td>15.0</td>\n",
       "      <td>3</td>\n",
       "      <td>2021</td>\n",
       "    </tr>\n",
       "  </tbody>\n",
       "</table>\n",
       "<p>3613769 rows × 14 columns</p>\n",
       "</div>"
      ],
      "text/plain": [
       "          Timestamp      Open      High       Low     Close     VolBTC  \\\n",
       "0        1325317920      4.39      4.39      4.39      4.39   0.455581   \n",
       "1        1325346600      4.39      4.39      4.39      4.39  48.000000   \n",
       "2        1325350740      4.50      4.57      4.50      4.57  37.862297   \n",
       "3        1325350800      4.58      4.58      4.58      4.58   9.000000   \n",
       "4        1325391360      4.58      4.58      4.58      4.58   1.502000   \n",
       "...             ...       ...       ...       ...       ...        ...   \n",
       "3613764  1617148560  58714.31  58714.31  58686.00  58686.00   1.384487   \n",
       "3613765  1617148620  58683.97  58693.43  58683.97  58685.81   7.294848   \n",
       "3613766  1617148680  58693.43  58723.84  58693.43  58723.84   1.705682   \n",
       "3613767  1617148740  58742.18  58770.38  58742.18  58760.59   0.720415   \n",
       "3613768  1617148800  58767.75  58778.18  58755.97  58778.18   2.712831   \n",
       "\n",
       "           VolCurrency  Weighted_Price    dateTime        date      time  \\\n",
       "0             2.000000        4.390000  2011-12-30  2011-12-30  23:52:00   \n",
       "1           210.720000        4.390000  2011-12-31  2011-12-31  07:50:00   \n",
       "2           171.380338        4.526411  2011-12-31  2011-12-31  08:59:00   \n",
       "3            41.220000        4.580000  2011-12-31  2011-12-31  09:00:00   \n",
       "4             6.879160        4.580000  2011-12-31  2011-12-31  20:16:00   \n",
       "...                ...             ...         ...         ...       ...   \n",
       "3613764   81259.372187    58692.753339  2021-03-30  2021-03-30  14:56:00   \n",
       "3613765  428158.146640    58693.226508  2021-03-30  2021-03-30  14:57:00   \n",
       "3613766  100117.070370    58696.198496  2021-03-30  2021-03-30  14:58:00   \n",
       "3613767   42332.958633    58761.866202  2021-03-30  2021-03-30  14:59:00   \n",
       "3613768  159417.751000    58764.349363  2021-03-30  2021-03-30  15:00:00   \n",
       "\n",
       "         hour  day_of_week  year  \n",
       "0        23.0            6  2011  \n",
       "1         7.0            7  2011  \n",
       "2         8.0            7  2011  \n",
       "3         9.0            7  2011  \n",
       "4        20.0            7  2011  \n",
       "...       ...          ...   ...  \n",
       "3613764  14.0            3  2021  \n",
       "3613765  14.0            3  2021  \n",
       "3613766  14.0            3  2021  \n",
       "3613767  14.0            3  2021  \n",
       "3613768  15.0            3  2021  \n",
       "\n",
       "[3613769 rows x 14 columns]"
      ]
     },
     "metadata": {},
     "output_type": "display_data"
    }
   ],
   "source": [
    "df_pandas = dados.toPandas()\n",
    "\n",
    "display(df_pandas)"
   ]
  },
  {
   "cell_type": "markdown",
   "id": "0fd6cd3e",
   "metadata": {},
   "source": [
    "<br>\n",
    "\n",
    "#### Obtendo os valores individuais para usar nos gráficos"
   ]
  },
  {
   "cell_type": "code",
   "execution_count": 25,
   "id": "167f4468",
   "metadata": {},
   "outputs": [],
   "source": [
    "# Obtendo os valores individuais para usar nos gráficos\n",
    "\n",
    "hour = df_pandas[\"hour\"].values.tolist()\n",
    "weighted_price = df_pandas[\"Weighted_Price\"].values.tolist()\n",
    "volume_BTC = df_pandas[\"VolBTC\"].values.tolist()\n",
    "date_of_week = df_pandas[\"day_of_week\"].values.tolist()\n",
    "year = df_pandas[\"year\"].values.tolist()"
   ]
  },
  {
   "cell_type": "markdown",
   "id": "dae3ed7b",
   "metadata": {},
   "source": [
    "<br><br><br>\n",
    "\n",
    "# <span style=\"color: green; font-size: 38px; font-weight: bold;\">Análise Exploratória</span>\n",
    "\n",
    "<br><br>\n",
    "\n",
    "## Resumo Estatístico"
   ]
  },
  {
   "cell_type": "code",
   "execution_count": 26,
   "id": "9a99a7f0",
   "metadata": {},
   "outputs": [
    {
     "name": "stdout",
     "output_type": "stream",
     "text": [
      "\n",
      "Sem Notação Científica\n"
     ]
    },
    {
     "data": {
      "text/html": [
       "<div>\n",
       "<style scoped>\n",
       "    .dataframe tbody tr th:only-of-type {\n",
       "        vertical-align: middle;\n",
       "    }\n",
       "\n",
       "    .dataframe tbody tr th {\n",
       "        vertical-align: top;\n",
       "    }\n",
       "\n",
       "    .dataframe thead th {\n",
       "        text-align: right;\n",
       "    }\n",
       "</style>\n",
       "<table border=\"1\" class=\"dataframe\">\n",
       "  <thead>\n",
       "    <tr style=\"text-align: right;\">\n",
       "      <th></th>\n",
       "      <th>Timestamp</th>\n",
       "      <th>Open</th>\n",
       "      <th>High</th>\n",
       "      <th>Low</th>\n",
       "      <th>Close</th>\n",
       "      <th>VolBTC</th>\n",
       "      <th>VolCurrency</th>\n",
       "      <th>Weighted_Price</th>\n",
       "      <th>hour</th>\n",
       "      <th>day_of_week</th>\n",
       "    </tr>\n",
       "  </thead>\n",
       "  <tbody>\n",
       "    <tr>\n",
       "      <th>count</th>\n",
       "      <td>3613769.00</td>\n",
       "      <td>3613769.00</td>\n",
       "      <td>3613769.00</td>\n",
       "      <td>3613769.00</td>\n",
       "      <td>3613769.00</td>\n",
       "      <td>3613769.00</td>\n",
       "      <td>3613769.00</td>\n",
       "      <td>3613769.00</td>\n",
       "      <td>3613769.00</td>\n",
       "      <td>3613769.00</td>\n",
       "    </tr>\n",
       "    <tr>\n",
       "      <th>mean</th>\n",
       "      <td>1497897952.07</td>\n",
       "      <td>6009.02</td>\n",
       "      <td>6013.36</td>\n",
       "      <td>6004.49</td>\n",
       "      <td>6009.01</td>\n",
       "      <td>9.32</td>\n",
       "      <td>41762.84</td>\n",
       "      <td>6008.93</td>\n",
       "      <td>11.23</td>\n",
       "      <td>3.98</td>\n",
       "    </tr>\n",
       "    <tr>\n",
       "      <th>std</th>\n",
       "      <td>74436890.73</td>\n",
       "      <td>8996.25</td>\n",
       "      <td>9003.52</td>\n",
       "      <td>8988.78</td>\n",
       "      <td>8996.36</td>\n",
       "      <td>30.55</td>\n",
       "      <td>151824.78</td>\n",
       "      <td>8995.99</td>\n",
       "      <td>6.86</td>\n",
       "      <td>1.97</td>\n",
       "    </tr>\n",
       "    <tr>\n",
       "      <th>min</th>\n",
       "      <td>1325317920.00</td>\n",
       "      <td>3.80</td>\n",
       "      <td>3.80</td>\n",
       "      <td>1.50</td>\n",
       "      <td>1.50</td>\n",
       "      <td>0.00</td>\n",
       "      <td>0.00</td>\n",
       "      <td>3.80</td>\n",
       "      <td>0.00</td>\n",
       "      <td>1.00</td>\n",
       "    </tr>\n",
       "    <tr>\n",
       "      <th>25%</th>\n",
       "      <td>1433682960.00</td>\n",
       "      <td>443.86</td>\n",
       "      <td>444.00</td>\n",
       "      <td>443.52</td>\n",
       "      <td>443.86</td>\n",
       "      <td>0.41</td>\n",
       "      <td>452.14</td>\n",
       "      <td>443.83</td>\n",
       "      <td>5.00</td>\n",
       "      <td>2.00</td>\n",
       "    </tr>\n",
       "    <tr>\n",
       "      <th>50%</th>\n",
       "      <td>1505879880.00</td>\n",
       "      <td>3596.97</td>\n",
       "      <td>3598.19</td>\n",
       "      <td>3595.62</td>\n",
       "      <td>3597.00</td>\n",
       "      <td>1.98</td>\n",
       "      <td>3810.12</td>\n",
       "      <td>3596.80</td>\n",
       "      <td>11.00</td>\n",
       "      <td>4.00</td>\n",
       "    </tr>\n",
       "    <tr>\n",
       "      <th>75%</th>\n",
       "      <td>1562207520.00</td>\n",
       "      <td>8627.27</td>\n",
       "      <td>8632.98</td>\n",
       "      <td>8621.09</td>\n",
       "      <td>8627.16</td>\n",
       "      <td>7.28</td>\n",
       "      <td>25698.21</td>\n",
       "      <td>8627.64</td>\n",
       "      <td>17.00</td>\n",
       "      <td>6.00</td>\n",
       "    </tr>\n",
       "    <tr>\n",
       "      <th>max</th>\n",
       "      <td>1617148800.00</td>\n",
       "      <td>61763.56</td>\n",
       "      <td>61781.83</td>\n",
       "      <td>61673.55</td>\n",
       "      <td>61781.80</td>\n",
       "      <td>5853.85</td>\n",
       "      <td>13900672.41</td>\n",
       "      <td>61716.21</td>\n",
       "      <td>23.00</td>\n",
       "      <td>7.00</td>\n",
       "    </tr>\n",
       "  </tbody>\n",
       "</table>\n",
       "</div>"
      ],
      "text/plain": [
       "          Timestamp       Open       High        Low      Close     VolBTC  \\\n",
       "count    3613769.00 3613769.00 3613769.00 3613769.00 3613769.00 3613769.00   \n",
       "mean  1497897952.07    6009.02    6013.36    6004.49    6009.01       9.32   \n",
       "std     74436890.73    8996.25    9003.52    8988.78    8996.36      30.55   \n",
       "min   1325317920.00       3.80       3.80       1.50       1.50       0.00   \n",
       "25%   1433682960.00     443.86     444.00     443.52     443.86       0.41   \n",
       "50%   1505879880.00    3596.97    3598.19    3595.62    3597.00       1.98   \n",
       "75%   1562207520.00    8627.27    8632.98    8621.09    8627.16       7.28   \n",
       "max   1617148800.00   61763.56   61781.83   61673.55   61781.80    5853.85   \n",
       "\n",
       "       VolCurrency  Weighted_Price       hour  day_of_week  \n",
       "count   3613769.00      3613769.00 3613769.00   3613769.00  \n",
       "mean      41762.84         6008.93      11.23         3.98  \n",
       "std      151824.78         8995.99       6.86         1.97  \n",
       "min           0.00            3.80       0.00         1.00  \n",
       "25%         452.14          443.83       5.00         2.00  \n",
       "50%        3810.12         3596.80      11.00         4.00  \n",
       "75%       25698.21         8627.64      17.00         6.00  \n",
       "max    13900672.41        61716.21      23.00         7.00  "
      ]
     },
     "metadata": {},
     "output_type": "display_data"
    }
   ],
   "source": [
    "# Salvar o formato original\n",
    "original_float_format = pd.options.display.float_format\n",
    "\n",
    "# Ajustar a exibição do pandas para valores sem notação científica\n",
    "pd.options.display.float_format = '{:.2f}'.format\n",
    "\n",
    "# Verificando o resumo estatístico sem notação científica\n",
    "print('\\nSem Notação Científica')\n",
    "display(df_pandas.describe())\n",
    "\n",
    "#print('\\n----------------------------------------------------------------------------------------------\\n\\n')\n",
    "\n",
    "# Restaurar o formato original\n",
    "pd.options.display.float_format = original_float_format\n",
    "\n",
    "# Verificando o resumo estatístico novamente para confirmar que voltou ao normal\n",
    "#print('\\nCom Notação Científica')\n",
    "#display(dados.describe())"
   ]
  },
  {
   "cell_type": "markdown",
   "id": "f4136ffe",
   "metadata": {},
   "source": [
    "<br>\n",
    "\n",
    "#### Visualizando através de Gráficos Histograma"
   ]
  },
  {
   "cell_type": "code",
   "execution_count": 27,
   "id": "d66b0fc9",
   "metadata": {},
   "outputs": [
    {
     "data": {
      "image/png": "[encoded data removed]",
      "text/plain": [
       "<Figure size 1080x1080 with 12 Axes>"
      ]
     },
     "metadata": {
      "needs_background": "light"
     },
     "output_type": "display_data"
    },
    {
     "name": "stdout",
     "output_type": "stream",
     "text": [
      "\n",
      "\n",
      "------------------------------------------------------------------------------------------------\n",
      "\n"
     ]
    },
    {
     "data": {
      "image/png": "[encoded data removed]",
      "text/plain": [
       "<Figure size 1080x720 with 1 Axes>"
      ]
     },
     "metadata": {
      "needs_background": "light"
     },
     "output_type": "display_data"
    }
   ],
   "source": [
    "# Plot\n",
    "df_pandas.hist(figsize = (15,15), bins = 10) \n",
    "plt.show()\n",
    "\n",
    "print('\\n\\n------------------------------------------------------------------------------------------------\\n')\n",
    "\n",
    "# Visualização dos outliers\n",
    "plt.figure(figsize=(15, 10))\n",
    "sns.boxplot(data=df_pandas.loc[:, df_pandas.columns != 'Timestamp'])\n",
    "plt.xticks(rotation=90)\n",
    "plt.title('Boxplot para Detecção de Outliers')\n",
    "plt.show()"
   ]
  },
  {
   "cell_type": "markdown",
   "id": "71d79951",
   "metadata": {},
   "source": [
    "### Interpretando\n",
    "\n",
    "- A maioria dos dados de preços (abertura, fechamento, alta e baixa) está concentrada em valores mais baixos, com poucas ocorrências em valores mais altos.\n",
    "- O volume de transações (VolBTC e VolCurrency) mostra uma distribuição altamente concentrada em valores baixos, com alguns valores extremamente altos.\n",
    "- A variável hour está distribuído uniformemente, indicando que as transações ocorrem de maneira relativamente uniforme ao longo do dia.\n",
    "- A variável day_of_week também está distribuído uniformemente, sugerindo que as transações ocorrem de maneira consistente ao longo da semana.\n",
    "\n",
    "- A variável VolCurrency apresenta uma grande quantidade de outliers, indicando transações com volumes extremamente altos em alguns períodos.\n",
    "- A variável VolBTC também apresenta outliers, mas em menor quantidade."
   ]
  },
  {
   "cell_type": "markdown",
   "id": "7575e5ee",
   "metadata": {},
   "source": [
    "<br><br>\n",
    "\n",
    "# Verificando Correlação"
   ]
  },
  {
   "cell_type": "code",
   "execution_count": 28,
   "id": "67129b35",
   "metadata": {},
   "outputs": [
    {
     "data": {
      "text/html": [
       "<div>\n",
       "<style scoped>\n",
       "    .dataframe tbody tr th:only-of-type {\n",
       "        vertical-align: middle;\n",
       "    }\n",
       "\n",
       "    .dataframe tbody tr th {\n",
       "        vertical-align: top;\n",
       "    }\n",
       "\n",
       "    .dataframe thead th {\n",
       "        text-align: right;\n",
       "    }\n",
       "</style>\n",
       "<table border=\"1\" class=\"dataframe\">\n",
       "  <thead>\n",
       "    <tr style=\"text-align: right;\">\n",
       "      <th></th>\n",
       "      <th>Timestamp</th>\n",
       "      <th>Open</th>\n",
       "      <th>High</th>\n",
       "      <th>Low</th>\n",
       "      <th>Close</th>\n",
       "      <th>VolBTC</th>\n",
       "      <th>VolCurrency</th>\n",
       "      <th>Weighted_Price</th>\n",
       "      <th>hour</th>\n",
       "      <th>day_of_week</th>\n",
       "    </tr>\n",
       "  </thead>\n",
       "  <tbody>\n",
       "    <tr>\n",
       "      <th>Timestamp</th>\n",
       "      <td>1.000000</td>\n",
       "      <td>0.650719</td>\n",
       "      <td>0.650644</td>\n",
       "      <td>0.650803</td>\n",
       "      <td>0.650714</td>\n",
       "      <td>-0.103926</td>\n",
       "      <td>0.228190</td>\n",
       "      <td>0.650737</td>\n",
       "      <td>0.032605</td>\n",
       "      <td>0.004181</td>\n",
       "    </tr>\n",
       "    <tr>\n",
       "      <th>Open</th>\n",
       "      <td>0.650719</td>\n",
       "      <td>1.000000</td>\n",
       "      <td>0.999999</td>\n",
       "      <td>0.999999</td>\n",
       "      <td>0.999999</td>\n",
       "      <td>-0.051860</td>\n",
       "      <td>0.344074</td>\n",
       "      <td>0.999999</td>\n",
       "      <td>0.021765</td>\n",
       "      <td>0.003780</td>\n",
       "    </tr>\n",
       "    <tr>\n",
       "      <th>High</th>\n",
       "      <td>0.650644</td>\n",
       "      <td>0.999999</td>\n",
       "      <td>1.000000</td>\n",
       "      <td>0.999998</td>\n",
       "      <td>0.999999</td>\n",
       "      <td>-0.051717</td>\n",
       "      <td>0.344498</td>\n",
       "      <td>0.999999</td>\n",
       "      <td>0.021739</td>\n",
       "      <td>0.003769</td>\n",
       "    </tr>\n",
       "    <tr>\n",
       "      <th>Low</th>\n",
       "      <td>0.650803</td>\n",
       "      <td>0.999999</td>\n",
       "      <td>0.999998</td>\n",
       "      <td>1.000000</td>\n",
       "      <td>0.999999</td>\n",
       "      <td>-0.052040</td>\n",
       "      <td>0.343541</td>\n",
       "      <td>1.000000</td>\n",
       "      <td>0.021798</td>\n",
       "      <td>0.003788</td>\n",
       "    </tr>\n",
       "    <tr>\n",
       "      <th>Close</th>\n",
       "      <td>0.650714</td>\n",
       "      <td>0.999999</td>\n",
       "      <td>0.999999</td>\n",
       "      <td>0.999999</td>\n",
       "      <td>1.000000</td>\n",
       "      <td>-0.051877</td>\n",
       "      <td>0.344036</td>\n",
       "      <td>1.000000</td>\n",
       "      <td>0.021767</td>\n",
       "      <td>0.003781</td>\n",
       "    </tr>\n",
       "    <tr>\n",
       "      <th>VolBTC</th>\n",
       "      <td>-0.103926</td>\n",
       "      <td>-0.051860</td>\n",
       "      <td>-0.051717</td>\n",
       "      <td>-0.052040</td>\n",
       "      <td>-0.051877</td>\n",
       "      <td>1.000000</td>\n",
       "      <td>0.352038</td>\n",
       "      <td>-0.051887</td>\n",
       "      <td>-0.034439</td>\n",
       "      <td>-0.006782</td>\n",
       "    </tr>\n",
       "    <tr>\n",
       "      <th>VolCurrency</th>\n",
       "      <td>0.228190</td>\n",
       "      <td>0.344074</td>\n",
       "      <td>0.344498</td>\n",
       "      <td>0.343541</td>\n",
       "      <td>0.344036</td>\n",
       "      <td>0.352038</td>\n",
       "      <td>1.000000</td>\n",
       "      <td>0.344010</td>\n",
       "      <td>-0.031129</td>\n",
       "      <td>-0.006950</td>\n",
       "    </tr>\n",
       "    <tr>\n",
       "      <th>Weighted_Price</th>\n",
       "      <td>0.650737</td>\n",
       "      <td>0.999999</td>\n",
       "      <td>0.999999</td>\n",
       "      <td>1.000000</td>\n",
       "      <td>1.000000</td>\n",
       "      <td>-0.051887</td>\n",
       "      <td>0.344010</td>\n",
       "      <td>1.000000</td>\n",
       "      <td>0.021768</td>\n",
       "      <td>0.003778</td>\n",
       "    </tr>\n",
       "    <tr>\n",
       "      <th>hour</th>\n",
       "      <td>0.032605</td>\n",
       "      <td>0.021765</td>\n",
       "      <td>0.021739</td>\n",
       "      <td>0.021798</td>\n",
       "      <td>0.021767</td>\n",
       "      <td>-0.034439</td>\n",
       "      <td>-0.031129</td>\n",
       "      <td>0.021768</td>\n",
       "      <td>1.000000</td>\n",
       "      <td>-0.011592</td>\n",
       "    </tr>\n",
       "    <tr>\n",
       "      <th>day_of_week</th>\n",
       "      <td>0.004181</td>\n",
       "      <td>0.003780</td>\n",
       "      <td>0.003769</td>\n",
       "      <td>0.003788</td>\n",
       "      <td>0.003781</td>\n",
       "      <td>-0.006782</td>\n",
       "      <td>-0.006950</td>\n",
       "      <td>0.003778</td>\n",
       "      <td>-0.011592</td>\n",
       "      <td>1.000000</td>\n",
       "    </tr>\n",
       "  </tbody>\n",
       "</table>\n",
       "</div>"
      ],
      "text/plain": [
       "                Timestamp      Open      High       Low     Close    VolBTC  \\\n",
       "Timestamp        1.000000  0.650719  0.650644  0.650803  0.650714 -0.103926   \n",
       "Open             0.650719  1.000000  0.999999  0.999999  0.999999 -0.051860   \n",
       "High             0.650644  0.999999  1.000000  0.999998  0.999999 -0.051717   \n",
       "Low              0.650803  0.999999  0.999998  1.000000  0.999999 -0.052040   \n",
       "Close            0.650714  0.999999  0.999999  0.999999  1.000000 -0.051877   \n",
       "VolBTC          -0.103926 -0.051860 -0.051717 -0.052040 -0.051877  1.000000   \n",
       "VolCurrency      0.228190  0.344074  0.344498  0.343541  0.344036  0.352038   \n",
       "Weighted_Price   0.650737  0.999999  0.999999  1.000000  1.000000 -0.051887   \n",
       "hour             0.032605  0.021765  0.021739  0.021798  0.021767 -0.034439   \n",
       "day_of_week      0.004181  0.003780  0.003769  0.003788  0.003781 -0.006782   \n",
       "\n",
       "                VolCurrency  Weighted_Price      hour  day_of_week  \n",
       "Timestamp          0.228190        0.650737  0.032605     0.004181  \n",
       "Open               0.344074        0.999999  0.021765     0.003780  \n",
       "High               0.344498        0.999999  0.021739     0.003769  \n",
       "Low                0.343541        1.000000  0.021798     0.003788  \n",
       "Close              0.344036        1.000000  0.021767     0.003781  \n",
       "VolBTC             0.352038       -0.051887 -0.034439    -0.006782  \n",
       "VolCurrency        1.000000        0.344010 -0.031129    -0.006950  \n",
       "Weighted_Price     0.344010        1.000000  0.021768     0.003778  \n",
       "hour              -0.031129        0.021768  1.000000    -0.011592  \n",
       "day_of_week       -0.006950        0.003778 -0.011592     1.000000  "
      ]
     },
     "metadata": {},
     "output_type": "display_data"
    },
    {
     "name": "stdout",
     "output_type": "stream",
     "text": [
      "\n",
      "\n",
      "=================================================================================================\n",
      "\n"
     ]
    },
    {
     "data": {
      "image/png": "[encoded data removed]",
      "text/plain": [
       "<Figure size 1152x864 with 2 Axes>"
      ]
     },
     "metadata": {
      "needs_background": "light"
     },
     "output_type": "display_data"
    },
    {
     "name": "stdout",
     "output_type": "stream",
     "text": [
      "\n",
      "\n",
      "---------------------------------------------------------------------------------------------------\n",
      "\n"
     ]
    },
    {
     "data": {
      "image/png": "[encoded data removed]",
      "text/plain": [
       "<Figure size 864x576 with 1 Axes>"
      ]
     },
     "metadata": {
      "needs_background": "light"
     },
     "output_type": "display_data"
    },
    {
     "data": {
      "text/plain": [
       "Close          1.000000\n",
       "Low            1.000000\n",
       "High           0.999999\n",
       "Open           0.999999\n",
       "Timestamp      0.650737\n",
       "VolCurrency    0.344010\n",
       "VolBTC         0.051887\n",
       "hour           0.021768\n",
       "day_of_week    0.003778\n",
       "Name: Weighted_Price, dtype: float64"
      ]
     },
     "metadata": {},
     "output_type": "display_data"
    }
   ],
   "source": [
    "## Verificando Correlações através de Tabela\n",
    "\n",
    "# Criando Tabela\n",
    "display(df_pandas.corr())\n",
    "\n",
    "print('\\n\\n=================================================================================================\\n')\n",
    "\n",
    "\n",
    "## Visualizando Correlações através de um Mapa de Calor\n",
    "\n",
    "# Criando o Heatmap\n",
    "corr_matrix = df_pandas.select_dtypes(include=[np.number]).corr()\n",
    "\n",
    "plt.figure(figsize=(16, 12))  # Define o tamanho da figura maior\n",
    "heatmap = sns.heatmap(corr_matrix, annot=True, fmt=\".2f\", cmap='coolwarm', vmin=-1, vmax=1, cbar=True, square=True, annot_kws={\"size\": 10})\n",
    "heatmap.set_xticklabels(heatmap.get_xticklabels(), rotation=45, horizontalalignment='right', fontsize=12)  # Aumenta a fonte das labels\n",
    "heatmap.set_yticklabels(heatmap.get_yticklabels(), rotation=0, fontsize=12)  # Aumenta a fonte das labels\n",
    "plt.title('Mapa de Calor das Correlações', fontsize=18)  # Aumenta o título\n",
    "plt.tight_layout()  # Ajusta o layout para evitar corte de labels\n",
    "plt.show()\n",
    "\n",
    "print('\\n\\n---------------------------------------------------------------------------------------------------\\n')\n",
    "\n",
    "# Calcular correlação com a variável alvo\n",
    "correlation_target = df_pandas.corr()['Weighted_Price'].drop('Weighted_Price')\n",
    "\n",
    "# Ordenar pela correlação absoluta\n",
    "correlation_target_sorted = correlation_target.abs().sort_values(ascending=False)\n",
    "\n",
    "# Visualizar as correlações\n",
    "plt.figure(figsize=(12, 8))\n",
    "sns.barplot(x=correlation_target_sorted.values, y=correlation_target_sorted.index, palette='coolwarm')\n",
    "plt.title('Correlação com Variável Alvo Weighted_Price')\n",
    "plt.xlabel('Correlação')\n",
    "plt.show()\n",
    "\n",
    "# Exibir correlações\n",
    "display(correlation_target_sorted)"
   ]
  },
  {
   "cell_type": "markdown",
   "id": "e9f39a39",
   "metadata": {},
   "source": [
    "### Interpretando\n",
    "\n",
    "- O mapa nos apresenta **altíssima correlação positiva** entre Open, Close, High, Low e Weighted_Price. Isso é esperado, pois todos esses valores representam diferentes aspectos do preço do Bitcoin.\n",
    "- Timestamp tem uma **correlação moderada** com os preços, sugerindo uma tendência de aumento dos preços ao longo do tempo.\n",
    "- VolCurrency tem uma **correlação positiva moderada** com os preços, enquanto VolBTC tem uma **correlação muito baixa**.\n",
    "\n",
    "<br>\n",
    "\n",
    "- Close, Low, High, Open têm **correlação extremamente alta** com Weighted_Price, o que era esperado.\n",
    "- Timestamp tem uma **correlação moderada**, indicando que o preço ponderado tende a aumentar ao longo do tempo.\n",
    "- VolCurrency tem uma **correlação positiva mais baixa**, indicando que o volume transacionado em moeda fiduciária tem algum impacto no preço ponderado.\n",
    "- VolBTC, hour e day_of_week têm **correlação muito baixa**, indicando que essas variáveis têm pouco impacto direto no preço ponderado.\n",
    "\n",
    "<br>\n",
    "\n",
    "### Conclusão\n",
    "\n",
    "- Observando a **altíssima correlação entre Open, Close, High e Low** e sabendo que elas **representam a mesma informação (valor de cotação)**, podemos concluir que há um **risco de multicolinearidade**. Isso pode afetar a estabilidade e a interpretabilidade do modelo preditivo. Para resolver esse problema, precisaremos aplicar técnicas de **seleção de variáveis**."
   ]
  },
  {
   "cell_type": "markdown",
   "id": "247e3d00",
   "metadata": {},
   "source": [
    "<br><br>\n",
    "\n",
    "# Analisando com Outros Gráficos\n",
    "\n",
    "<br>\n",
    "\n",
    "#### Scatter Plot Volume Bitcoin x Volume Moeda"
   ]
  },
  {
   "cell_type": "code",
   "execution_count": 29,
   "id": "3fd1d625",
   "metadata": {},
   "outputs": [
    {
     "data": {
      "text/plain": [
       "<Figure size 864x360 with 0 Axes>"
      ]
     },
     "metadata": {},
     "output_type": "display_data"
    },
    {
     "data": {
      "image/png": "[encoded data removed]",
      "text/plain": [
       "<Figure size 432x288 with 1 Axes>"
      ]
     },
     "metadata": {},
     "output_type": "display_data"
    }
   ],
   "source": [
    "# Scatter Plot Volume Bitcoin x Volume Moeda\n",
    "plt.figure(figsize = (12,5))\n",
    "sns.set(style = 'whitegrid')\n",
    "df_pandas.plot(kind = 'scatter', x = 'VolBTC', y = 'VolCurrency')\n",
    "plt.xlabel('Volume Bitcoin')            \n",
    "plt.ylabel('Volume Moeda')\n",
    "plt.title('Scatter Plot Volume Bitcoin x Volume Moeda') \n",
    "plt.show()"
   ]
  },
  {
   "cell_type": "markdown",
   "id": "2846dcd6",
   "metadata": {},
   "source": [
    "### Interpretando\n",
    "\n",
    "> Transações Pequenas: Grande variabilidade no valor em moeda fiduciária.\n",
    "\n",
    "> Transações Grandes: Valor em moeda fiduciária mais consistente e previsível.\n",
    "\n",
    "Isso pode indicar que o mercado de Bitcoin tem comportamentos diferentes para transações de diferentes tamanhos, com pequenas transações sendo mais voláteis em termos de valor em moeda fiduciária, enquanto grandes transações são mais estáveis.\n",
    "\n",
    "<br>\n",
    "\n",
    "#### Line Plot Cotação Open x High"
   ]
  },
  {
   "cell_type": "code",
   "execution_count": 30,
   "id": "26e6b8c4",
   "metadata": {},
   "outputs": [
    {
     "data": {
      "image/png": "[encoded data removed]",
      "text/plain": [
       "<Figure size 1152x360 with 1 Axes>"
      ]
     },
     "metadata": {},
     "output_type": "display_data"
    }
   ],
   "source": [
    "# Line Plot Cotação Open x High \n",
    "plt.figure(figsize = (16,5))\n",
    "df_pandas.Open.plot(kind = 'line', \n",
    "                    color = 'r', \n",
    "                    label = 'Open', \n",
    "                    alpha = 0.5, \n",
    "                    linewidth = 5, \n",
    "                    grid = True, \n",
    "                    linestyle = ':')\n",
    "df_pandas.High.plot(color = 'g', \n",
    "                    label = 'High', \n",
    "                    linewidth = 1, \n",
    "                    alpha = 0.5, \n",
    "                    grid = True, \n",
    "                    linestyle = '-.')\n",
    "plt.legend(loc = 'upper left') \n",
    "plt.xlabel('Tempo')\n",
    "plt.ylabel('Cotação')\n",
    "plt.title('Line Plot Cotação Open x High ')\n",
    "plt.show()"
   ]
  },
  {
   "cell_type": "markdown",
   "id": "7baed910",
   "metadata": {},
   "source": [
    "### Interpretando\n",
    "\n",
    "O gráfico mostra as cotações de abertura (Open) e máxima (High) do Bitcoin ao longo do tempo. As seguintes observações podem ser feitas:\n",
    "\n",
    "- Ambas as linhas (Open e High) seguem um padrão semelhante ao longo do tempo, indicando que a cotação máxima (High) é próxima da cotação de abertura (Open) em cada ponto de tempo.\n",
    "- No início do gráfico, as cotações permanecem baixas e estáveis, mostrando pouca variação.\n",
    "- A diferença entre as cotações Open e High é mínima ao longo do gráfico, o que sugere que o preço de abertura e o preço máximo em um determinado dia são muito próximos. Isso é indicado pela sobreposição das linhas representando Open e High.\n",
    "\n",
    "<br>\n",
    "\n",
    "#### Histograma da cotação de abertura"
   ]
  },
  {
   "cell_type": "code",
   "execution_count": 31,
   "id": "5d9adc4d",
   "metadata": {},
   "outputs": [
    {
     "data": {
      "text/plain": [
       "<AxesSubplot:ylabel='Frequency'>"
      ]
     },
     "execution_count": 31,
     "metadata": {},
     "output_type": "execute_result"
    },
    {
     "data": {
      "image/png": "[encoded data removed]",
      "text/plain": [
       "<Figure size 432x288 with 1 Axes>"
      ]
     },
     "metadata": {},
     "output_type": "display_data"
    }
   ],
   "source": [
    "# Histograma da cotação de abertura\n",
    "df_pandas.Open.plot(kind = 'hist', bins = 50)"
   ]
  },
  {
   "cell_type": "markdown",
   "id": "01359626",
   "metadata": {},
   "source": [
    "### Interpretando\n",
    "\n",
    "- A maioria dos valores está concentrada em faixas mais baixas, principalmente entre 0 e 10.000.\n",
    "- A frequência diminui drasticamente à medida que os valores aumentam.\n",
    "- Esse padrão é comum em dados financeiros onde a maioria das transações ocorre em valores mais baixos, mas algumas transações grandes ocorrem com menor frequência.\n",
    "\n",
    "<br>\n",
    "\n",
    "#### Plot do valor ponderado da cotação (variável alvo) por hora"
   ]
  },
  {
   "cell_type": "code",
   "execution_count": 32,
   "id": "f3555dd7",
   "metadata": {},
   "outputs": [
    {
     "data": {
      "image/png": "[encoded data removed]",
      "text/plain": [
       "<Figure size 432x288 with 1 Axes>"
      ]
     },
     "metadata": {},
     "output_type": "display_data"
    }
   ],
   "source": [
    "# Plot do valor ponderado da cotação (variável alvo) por hora\n",
    "plt.plot(hour, weighted_price , 'g*')\n",
    "plt.xlabel('Hora')            \n",
    "plt.ylabel('Valor Ponderado da Cotação')\n",
    "plt.title('Valor Ponderado da Cotação Por Hora') \n",
    "plt.show()"
   ]
  },
  {
   "cell_type": "markdown",
   "id": "8bb664dd",
   "metadata": {},
   "source": [
    "### Interpretando\n",
    "\n",
    "O gráfico de dispersão mostra a relação entre a hora do dia (eixo x) e o valor ponderado da cotação do Bitcoin (eixo y).\n",
    "\n",
    "- Os pontos estão distribuídos de maneira relativamente uniforme ao longo das 24 horas do dia.\n",
    "- O valor ponderado da cotação do Bitcoin parece não ter uma correlação clara com a hora do dia.\n",
    "\n",
    "<br>\n",
    "\n",
    "#### Plot do valor ponderado da cotação por dia da semana"
   ]
  },
  {
   "cell_type": "code",
   "execution_count": 33,
   "id": "bd56ca3b",
   "metadata": {},
   "outputs": [
    {
     "data": {
      "image/png": "[encoded data removed]",
      "text/plain": [
       "<Figure size 432x288 with 1 Axes>"
      ]
     },
     "metadata": {},
     "output_type": "display_data"
    }
   ],
   "source": [
    "# Plot do valor ponderado da cotação por dia da semana\n",
    "plt.plot(date_of_week, weighted_price, 'b*')\n",
    "plt.xlabel('Dia da Semana')            \n",
    "plt.ylabel('Valor Ponderado da Cotação')\n",
    "plt.title('Valor Ponderado da Cotação Por Dia da Semana') \n",
    "plt.show()"
   ]
  },
  {
   "cell_type": "markdown",
   "id": "245fcbe5",
   "metadata": {},
   "source": [
    "### Interpretando\n",
    "\n",
    "O gráfico de dispersão mostra a relação entre o dia da semana (eixo x) e o valor ponderado da cotação do Bitcoin (eixo y). Os dias da semana são representados numericamente de 1 (domingo) a 7 (sábado).\n",
    "\n",
    "- Os pontos estão distribuídos uniformemente ao longo dos dias da semana.\n",
    "- Isso sugere que o valor ponderado da cotação do Bitcoin não varia significativamente com o dia da semana.\n",
    "\n",
    "<br>\n",
    "\n",
    "#### Plot do VolBTC por hora"
   ]
  },
  {
   "cell_type": "code",
   "execution_count": 34,
   "id": "20fa5753",
   "metadata": {},
   "outputs": [
    {
     "data": {
      "image/png": "[encoded data removed]",
      "text/plain": [
       "<Figure size 432x288 with 1 Axes>"
      ]
     },
     "metadata": {},
     "output_type": "display_data"
    }
   ],
   "source": [
    "# Plot do VolBTC por hora\n",
    "plt.plot(hour, volume_BTC, 'r*')\n",
    "plt.xlabel('Hora')            \n",
    "plt.ylabel('VolBTC')\n",
    "plt.title('Volume Negociado de Bitcoin Por Hora') \n",
    "plt.show()"
   ]
  },
  {
   "cell_type": "markdown",
   "id": "9dcb67c9",
   "metadata": {},
   "source": [
    "### Interpretando\n",
    "\n",
    "- O volume negociado de Bitcoin é bastante variável ao longo das horas do dia.\n",
    "- Existe uma quantidade considerável de outliers em diversas horas do dia, indicando que em algumas horas específicas, ocorreram transações de grande volume. Porém, a maior parte das transações de Bitcoin ocorre em volumes mais baixos e de forma mais consistente ao longo das horas.\n",
    "\n",
    "<br>\n",
    "\n",
    "#### Plot de VolBTC por dia da semana"
   ]
  },
  {
   "cell_type": "code",
   "execution_count": 35,
   "id": "feb8c97e",
   "metadata": {},
   "outputs": [
    {
     "data": {
      "image/png": "[encoded data removed]",
      "text/plain": [
       "<Figure size 432x288 with 1 Axes>"
      ]
     },
     "metadata": {},
     "output_type": "display_data"
    }
   ],
   "source": [
    "# Plot de VolBTC por dia da semana\n",
    "plt.plot(date_of_week, volume_BTC, 'yo')\n",
    "plt.xlabel('Dia da Semana')            \n",
    "plt.ylabel('VolBTC')\n",
    "plt.title('Volume Negociado de Bitcoin Por Dia da Semana') \n",
    "plt.show()"
   ]
  },
  {
   "cell_type": "markdown",
   "id": "80613cb6",
   "metadata": {},
   "source": [
    "### Interpretando\n",
    "\n",
    "- O volume de negociação parece ter uma distribuição similar ao longo dos dias da semana.\n",
    "- Não há uma variação significativa no volume negociado de Bitcoin dependendo do dia da semana, sugerindo que o volume de negociação é relativamente consistente. Existem alguns picos de transação, mas eles ocorrem em diferentes dias da semana, sem um padrão claro.\n",
    "\n",
    "<br>\n",
    "\n",
    "#### Plot do valor ponderado da cotação por ano"
   ]
  },
  {
   "cell_type": "code",
   "execution_count": 36,
   "id": "decdd66e",
   "metadata": {},
   "outputs": [
    {
     "data": {
      "image/png": "[encoded data removed]",
      "text/plain": [
       "<Figure size 432x288 with 1 Axes>"
      ]
     },
     "metadata": {},
     "output_type": "display_data"
    }
   ],
   "source": [
    "# Plot do valor ponderado da cotação por ano\n",
    "plt.plot(year, weighted_price , 'm^')\n",
    "plt.xlabel('Ano')            \n",
    "plt.ylabel('Valor Ponderado da Cotação')\n",
    "plt.title('Valor Ponderado da Cotação Por Ano') \n",
    "plt.show()"
   ]
  },
  {
   "cell_type": "markdown",
   "id": "2f8aaa44",
   "metadata": {},
   "source": [
    "### Interpretando\n",
    "\n",
    "- O gráfico mostra um aumento significativo no valor ponderado da cotação do Bitcoin ao longo dos anos, especialmente a partir de 2016. Isso indica uma tendência de alta acentuada no preço do Bitcoin, refletindo seu crescente valor de mercado e adoção ao longo do tempo.\n",
    "\n",
    "<br>\n",
    "\n",
    "#### Plot do Volume por ano"
   ]
  },
  {
   "cell_type": "code",
   "execution_count": 37,
   "id": "3e23e2df",
   "metadata": {},
   "outputs": [
    {
     "data": {
      "image/png": "[encoded data removed]",
      "text/plain": [
       "<Figure size 432x288 with 1 Axes>"
      ]
     },
     "metadata": {},
     "output_type": "display_data"
    }
   ],
   "source": [
    "# Plot do Volume por ano\n",
    "plt.plot(year, volume_BTC , 'kD')\n",
    "plt.xlabel('Ano')            \n",
    "plt.ylabel('volume BTC')\n",
    "plt.title('Volume de BTC Negociado Por Ano') \n",
    "plt.show()"
   ]
  },
  {
   "cell_type": "markdown",
   "id": "72d93f44",
   "metadata": {},
   "source": [
    "### Interpretando\n",
    "\n",
    "- O gráfico mostra que o volume de Bitcoin negociado atingiu picos significativos em 2014 e 2015, seguido por uma queda nos anos subsequentes. Isso pode refletir eventos específicos do mercado ou mudanças na atividade de negociação."
   ]
  },
  {
   "cell_type": "markdown",
   "id": "b61b565b",
   "metadata": {},
   "source": [
    "<br> <br> <br>\n",
    "\n",
    "# <span style=\"color: green; font-size: 38px; font-weight: bold;\">Engenharia de Atributos</span>\n",
    "\n",
    "- Nesta etapa aplicaremos iremos **remover colunas** não relevantes e iremos **aplicar a função VectorAssembler** que é um transformador que combina uma determinada lista de colunas em uma única coluna de vetor. \n",
    "\n",
    "<br>\n",
    "\n",
    "### Removendo Colunas\n",
    "\n",
    "- Como vimos anteriormente as colunas **date**, **time**, **hour**, **day_of_week** e **year** não são relevantes ou não aparesentam correlação significativa com a variável alvo **Weighted_Price**."
   ]
  },
  {
   "cell_type": "code",
   "execution_count": 38,
   "id": "418b9f65",
   "metadata": {},
   "outputs": [
    {
     "name": "stdout",
     "output_type": "stream",
     "text": [
      "root\n",
      " |-- Timestamp: integer (nullable = true)\n",
      " |-- Open: double (nullable = true)\n",
      " |-- High: double (nullable = true)\n",
      " |-- Low: double (nullable = true)\n",
      " |-- Close: double (nullable = true)\n",
      " |-- VolBTC: double (nullable = true)\n",
      " |-- VolCurrency: double (nullable = true)\n",
      " |-- Weighted_Price: double (nullable = true)\n",
      " |-- dateTime: date (nullable = true)\n",
      " |-- date: date (nullable = true)\n",
      " |-- time: string (nullable = true)\n",
      " |-- hour: double (nullable = true)\n",
      " |-- day_of_week: integer (nullable = true)\n",
      " |-- year: string (nullable = true)\n",
      "\n"
     ]
    }
   ],
   "source": [
    "## Usamos novamente o objeto PySpark\n",
    "\n",
    "# Verificando os Tipos das Colunas\n",
    "dados.printSchema()"
   ]
  },
  {
   "cell_type": "code",
   "execution_count": 39,
   "id": "86bfcd2b",
   "metadata": {},
   "outputs": [
    {
     "name": "stdout",
     "output_type": "stream",
     "text": [
      "root\n",
      " |-- Timestamp: integer (nullable = true)\n",
      " |-- Open: double (nullable = true)\n",
      " |-- High: double (nullable = true)\n",
      " |-- Low: double (nullable = true)\n",
      " |-- Close: double (nullable = true)\n",
      " |-- VolBTC: double (nullable = true)\n",
      " |-- VolCurrency: double (nullable = true)\n",
      " |-- Weighted_Price: double (nullable = true)\n",
      " |-- dateTime: date (nullable = true)\n",
      "\n"
     ]
    }
   ],
   "source": [
    "# Removendo as colunas que não são relevantes\n",
    "dados = dados.drop('date', 'time', 'hour', 'day_of_week', 'year')\n",
    "\n",
    "# Verificando os Tipos das Colunas\n",
    "dados.printSchema()"
   ]
  },
  {
   "cell_type": "markdown",
   "id": "7f4b268e",
   "metadata": {},
   "source": [
    "<br>\n",
    "\n",
    "### Aplicando Função VectorAssembler \n",
    "\n",
    "- Criando um **Objeto Vetor de Atributos** e adicionando ao Dataframe\n",
    "- As **colunas selecionadas** foram escolhidas a partir das análises feita anteriormente."
   ]
  },
  {
   "cell_type": "code",
   "execution_count": 40,
   "id": "4dde88e7",
   "metadata": {},
   "outputs": [
    {
     "name": "stdout",
     "output_type": "stream",
     "text": [
      "root\n",
      " |-- Timestamp: integer (nullable = true)\n",
      " |-- Open: double (nullable = true)\n",
      " |-- High: double (nullable = true)\n",
      " |-- Low: double (nullable = true)\n",
      " |-- Close: double (nullable = true)\n",
      " |-- VolBTC: double (nullable = true)\n",
      " |-- VolCurrency: double (nullable = true)\n",
      " |-- Weighted_Price: double (nullable = true)\n",
      " |-- dateTime: date (nullable = true)\n",
      " |-- features: vector (nullable = true)\n",
      "\n"
     ]
    }
   ],
   "source": [
    "# Prepara o vetor de atributos (Este processo combina as colunas definidas em uma única coluna vetorial)\n",
    "assembler = VectorAssembler(inputCols = ['Open', 'VolBTC', 'VolCurrency'], \n",
    "                            outputCol = \"features\")\n",
    "\n",
    "# Adicionar a nova coluna ao DataFrame\n",
    "df_assembled = assembler.transform(dados)\n",
    "\n",
    "# Verificando os Tipos das Colunas\n",
    "df_assembled.printSchema()"
   ]
  },
  {
   "cell_type": "code",
   "execution_count": 41,
   "id": "fc4a2464",
   "metadata": {},
   "outputs": [
    {
     "name": "stdout",
     "output_type": "stream",
     "text": [
      "+----------+----+----+----+-----+-----------+------------+--------------+----------+--------------------+\n",
      "| Timestamp|Open|High| Low|Close|     VolBTC| VolCurrency|Weighted_Price|  dateTime|            features|\n",
      "+----------+----+----+----+-----+-----------+------------+--------------+----------+--------------------+\n",
      "|1325317920|4.39|4.39|4.39| 4.39| 0.45558087|2.0000000193|          4.39|2011-12-30|[4.39,0.45558087,...|\n",
      "|1325346600|4.39|4.39|4.39| 4.39|       48.0|      210.72|          4.39|2011-12-31|  [4.39,48.0,210.72]|\n",
      "|1325350740| 4.5|4.57| 4.5| 4.57|37.86229723|171.38033753|  4.5264114983|2011-12-31|[4.5,37.86229723,...|\n",
      "|1325350800|4.58|4.58|4.58| 4.58|        9.0|       41.22|          4.58|2011-12-31|    [4.58,9.0,41.22]|\n",
      "|1325391360|4.58|4.58|4.58| 4.58|      1.502|     6.87916|          4.58|2011-12-31|[4.58,1.502,6.87916]|\n",
      "+----------+----+----+----+-----+-----------+------------+--------------+----------+--------------------+\n",
      "only showing top 5 rows\n",
      "\n"
     ]
    }
   ],
   "source": [
    "df_assembled.show(5)"
   ]
  },
  {
   "cell_type": "markdown",
   "id": "3afb56ad",
   "metadata": {},
   "source": [
    "<br><br><br><br>\n",
    "\n",
    "# Pré-Processamento de Dados Para Construção de Modelos de Machine Learning\n",
    "\n",
    "<br><br>\n",
    "\n",
    "\n",
    "## Dividindo os dados em Dados de Treino e Dados de Teste\n",
    "- Nós **treinamos** o modelo com **dados de treino** e **avaliamos** o modelo com **dados de teste**.\n",
    "\n",
    "<br>"
   ]
  },
  {
   "cell_type": "code",
   "execution_count": 42,
   "id": "de7ea489",
   "metadata": {},
   "outputs": [],
   "source": [
    "# Divisão em dados de treino e teste\n",
    "dados_treino, dados_teste = df_assembled.randomSplit([.7,.3], seed = rnd_seed)"
   ]
  },
  {
   "cell_type": "markdown",
   "id": "c0fc5e54",
   "metadata": {},
   "source": [
    "<br>\n",
    "\n",
    "## Tratamento de Escala\n",
    "\n",
    "> **Normalização** ou **Padronização**\n",
    "\n",
    "- A transformação (como escalonamento) precisa ser aplicada nos dados de teste usando os parâmetros calculados a partir dos dados de treino para garantir a consistência. \n",
    "\n",
    "<br>\n",
    "\n",
    "\n",
    "### Normalizando os Dados\n",
    "\n",
    "- A normalização foi escolhida devido às diferenças significativas nas escalas das variáveis de entrada (como Open, VolBTC e VolCurrency), garantindo que todas contribuam proporcionalmente durante o treinamento do modelo. Isso é especialmente importante para algoritmos sensíveis à escala e baseados em distância. Além disso, a normalização facilita a interpretação dos resultados, melhora a eficiência computacional e é adequada para a natureza volátil dos dados de criptomoedas.\n",
    "\n",
    "<br>\n",
    "\n",
    "- A normalização será aplicada **apenas à variável features** para garantir a consistência das transformações entre os dados de treino e teste, utilizando os parâmetros calculados a partir dos dados de treino.\n",
    "\n",
    "<br>\n",
    "\n",
    "- Será criado um **pipeline** com as etapas de transformação (incluindo a etapa de VectorAssembler)"
   ]
  },
  {
   "cell_type": "code",
   "execution_count": 45,
   "id": "dde6ef16",
   "metadata": {},
   "outputs": [],
   "source": [
    "# Cria o scaler (selecionando apenas a coluna features)\n",
    "scaler = MinMaxScaler(inputCol='features', outputCol='scaled_features')\n",
    "\n",
    "# Define o pipeline com as etapas de transformação\n",
    "pipeline = Pipeline(stages=[scaler])\n",
    "\n",
    "# Fit no pipeline usando os dados de treino\n",
    "pipeline_model = pipeline.fit(dados_treino)\n",
    "\n",
    "# Transform nos dados de treino e teste\n",
    "dados_treino_scaled = pipeline_model.transform(dados_treino)\n",
    "dados_teste_scaled = pipeline_model.transform(dados_teste)"
   ]
  },
  {
   "cell_type": "code",
   "execution_count": 46,
   "id": "4cc78c22",
   "metadata": {},
   "outputs": [
    {
     "name": "stdout",
     "output_type": "stream",
     "text": [
      "+-------------------------------+------------------------------------------------------------------+\n",
      "|features                       |scaled_features                                                   |\n",
      "+-------------------------------+------------------------------------------------------------------+\n",
      "|[4.39,48.0,210.72]             |[9.557729822093386E-6,0.011673503471190906,1.8335460613525925E-5] |\n",
      "|[4.5,37.86229723,171.38033753] |[1.1339679449941311E-5,0.00920803454461806,1.4912383393669768E-5] |\n",
      "|[4.58,9.0,41.22]               |[1.263564281564889E-5,0.0021887819008482947,3.58669175441125E-6]  |\n",
      "|[4.84,10.0,48.4]               |[1.6847523754198516E-5,0.0024319798898314385,4.211447863015635E-6]|\n",
      "|[5.0,10.1,50.5]                |[1.9439450485613674E-5,0.002456299688729753,4.3941759727745785E-6]|\n",
      "|[5.14,0.68,3.4952]             |[2.170738637560193E-5,1.6537463250853785E-4,3.041291853473605E-7] |\n",
      "|[5.26,29.31939163,154.21999997]|[2.36513314241633E-5,0.00713041708262522,1.3419204324543965E-5]   |\n",
      "|[5.14,0.02,0.1028]             |[2.170738637560193E-5,4.863959779662877E-6,8.94497603962825E-9]   |\n",
      "|[5.29,11.0,58.19]              |[2.4137317686303644E-5,0.0026751778788145827,5.063308908034707E-6]|\n",
      "|[5.29,4.01081466,21.217209551] |[2.4137317686303644E-5,9.75422059496112E-4,1.8461812360064852E-6] |\n",
      "+-------------------------------+------------------------------------------------------------------+\n",
      "only showing top 10 rows\n",
      "\n"
     ]
    }
   ],
   "source": [
    "# Visualizando os dados\n",
    "#dados_treino_scaled.show(5, truncate = False)\n",
    "\n",
    "# Visualizando apenas as colunas features e scaled_features\n",
    "dados_treino_scaled.select(\"features\", \"scaled_features\").show(10, truncate = False)"
   ]
  },
  {
   "cell_type": "code",
   "execution_count": 47,
   "id": "3b94d920",
   "metadata": {},
   "outputs": [
    {
     "data": {
      "text/plain": [
       "['Timestamp',\n",
       " 'Open',\n",
       " 'High',\n",
       " 'Low',\n",
       " 'Close',\n",
       " 'VolBTC',\n",
       " 'VolCurrency',\n",
       " 'Weighted_Price',\n",
       " 'dateTime',\n",
       " 'features',\n",
       " 'scaled_features']"
      ]
     },
     "execution_count": 47,
     "metadata": {},
     "output_type": "execute_result"
    }
   ],
   "source": [
    "# Verificando colunas\n",
    "dados_treino_scaled.columns"
   ]
  },
  {
   "cell_type": "markdown",
   "id": "48b96cfa",
   "metadata": {},
   "source": [
    "<br><br><br><br><br>\n",
    "\n",
    "<span style=\"color: green; font-size: 40px; font-weight: bold;\">Construindo Modelos de Machine Learning</span>\n",
    "\n",
    "\n",
    "<br><br><br>\n",
    "\n",
    "## Criando Dataframe para salvar métricas de cada Modelo"
   ]
  },
  {
   "cell_type": "code",
   "execution_count": 48,
   "id": "830f5074",
   "metadata": {},
   "outputs": [],
   "source": [
    "# Cria um dataframe para receber as métricas de cada modelo\n",
    "df_modelos = pd.DataFrame()"
   ]
  },
  {
   "cell_type": "markdown",
   "id": "7d9275f4",
   "metadata": {},
   "source": [
    "<br><br><br>\n",
    "\n",
    "# <span style=\"color: green; font-weight: bold;\">Modelo 1 com Regressão Linear (Benchmark)</span>\n",
    "\n",
    "<br>\n",
    "\n",
    "> # Versão 1\n",
    "\n",
    "- Sem Ajuste de Hiperparâmetros\n",
    "\n",
    "\n",
    "<br>\n",
    "\n",
    "### Criação, Treinamento, Previsão e Avaliação do Modelo"
   ]
  },
  {
   "cell_type": "code",
   "execution_count": null,
   "id": "5d571520",
   "metadata": {},
   "outputs": [],
   "source": []
  },
  {
   "cell_type": "code",
   "execution_count": null,
   "id": "bc520c27",
   "metadata": {},
   "outputs": [],
   "source": []
  },
  {
   "cell_type": "code",
   "execution_count": null,
   "id": "626b7f90",
   "metadata": {},
   "outputs": [],
   "source": []
  },
  {
   "cell_type": "code",
   "execution_count": null,
   "id": "45bca00c",
   "metadata": {},
   "outputs": [],
   "source": []
  },
  {
   "cell_type": "code",
   "execution_count": null,
   "id": "d05b6535",
   "metadata": {},
   "outputs": [],
   "source": []
  },
  {
   "cell_type": "code",
   "execution_count": null,
   "id": "dde904b7",
   "metadata": {},
   "outputs": [],
   "source": []
  },
  {
   "cell_type": "code",
   "execution_count": null,
   "id": "446aa016",
   "metadata": {},
   "outputs": [],
   "source": [
    "# Salvar o modelo do pipeline\n",
    "#pipeline_model.save('caminho/para/salvar/pipeline_model')\n",
    "\n",
    "# Carregar o modelo do pipeline\n",
    "#pipeline_model_carregado = PipelineModel.load('caminho/para/salvar/pipeline_model')\n",
    "\n",
    "# Transform nos novos dados\n",
    "#dados_novos_scaled = pipeline_model_carregado.transform(dados_novos)"
   ]
  },
  {
   "cell_type": "code",
   "execution_count": null,
   "id": "fb2b8edf",
   "metadata": {},
   "outputs": [],
   "source": []
  }
 ],
 "metadata": {
  "kernelspec": {
   "display_name": "Python 3 (ipykernel)",
   "language": "python",
   "name": "python3"
  },
  "language_info": {
   "codemirror_mode": {
    "name": "ipython",
    "version": 3
   },
   "file_extension": ".py",
   "mimetype": "text/x-python",
   "name": "python",
   "nbconvert_exporter": "python",
   "pygments_lexer": "ipython3",
   "version": "3.9.7"
  }
 },
 "nbformat": 4,
 "nbformat_minor": 5
}
