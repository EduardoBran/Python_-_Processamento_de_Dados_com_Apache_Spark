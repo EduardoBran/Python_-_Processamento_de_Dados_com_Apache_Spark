{
 "cells": [
  {
   "cell_type": "markdown",
   "id": "7bf3981f",
   "metadata": {},
   "source": [
    "# Testando a Instalação do PySpark"
   ]
  },
  {
   "cell_type": "code",
   "execution_count": 1,
   "id": "33f4f56f",
   "metadata": {},
   "outputs": [
    {
     "name": "stdout",
     "output_type": "stream",
     "text": [
      "Collecting findspark\n",
      "  Downloading findspark-2.0.1-py2.py3-none-any.whl (4.4 kB)\n",
      "Installing collected packages: findspark\n",
      "Successfully installed findspark-2.0.1\n"
     ]
    }
   ],
   "source": [
    "!pip install findspark"
   ]
  },
  {
   "cell_type": "markdown",
   "id": "53c41463",
   "metadata": {},
   "source": [
    "<br>\n",
    "\n",
    "## Configuração do Ambiente:"
   ]
  },
  {
   "cell_type": "code",
   "execution_count": 2,
   "id": "f9fb6082",
   "metadata": {},
   "outputs": [],
   "source": [
    "import findspark\n",
    "findspark.init()"
   ]
  },
  {
   "cell_type": "code",
   "execution_count": 3,
   "id": "6e053931",
   "metadata": {},
   "outputs": [],
   "source": [
    "import pyspark\n",
    "import random"
   ]
  },
  {
   "cell_type": "code",
   "execution_count": 4,
   "id": "9b010ad7",
   "metadata": {},
   "outputs": [
    {
     "name": "stderr",
     "output_type": "stream",
     "text": [
      "24/07/10 12:48:43 WARN Utils: Your hostname, eduardo-Inspiron-15-3520 resolves to a loopback address: 127.0.1.1; using 192.168.0.13 instead (on interface wlp0s20f3)\n",
      "24/07/10 12:48:43 WARN Utils: Set SPARK_LOCAL_IP if you need to bind to another address\n",
      "Setting default log level to \"WARN\".\n",
      "To adjust logging level use sc.setLogLevel(newLevel). For SparkR, use setLogLevel(newLevel).\n",
      "24/07/10 12:48:44 WARN NativeCodeLoader: Unable to load native-hadoop library for your platform... using builtin-java classes where applicable\n"
     ]
    }
   ],
   "source": [
    "sc = pyspark.SparkContext(appName = \"TestePySpark\")"
   ]
  },
  {
   "cell_type": "code",
   "execution_count": 5,
   "id": "bde2c5bb",
   "metadata": {},
   "outputs": [],
   "source": [
    "sc.setLogLevel(\"INFO\")"
   ]
  },
  {
   "cell_type": "code",
   "execution_count": 6,
   "id": "d2581187",
   "metadata": {},
   "outputs": [
    {
     "data": {
      "text/html": [
       "\n",
       "        <div>\n",
       "            <p><b>SparkContext</b></p>\n",
       "\n",
       "            <p><a href=\"http://192.168.0.13:4040\">Spark UI</a></p>\n",
       "\n",
       "            <dl>\n",
       "              <dt>Version</dt>\n",
       "                <dd><code>v3.5.1</code></dd>\n",
       "              <dt>Master</dt>\n",
       "                <dd><code>local[*]</code></dd>\n",
       "              <dt>AppName</dt>\n",
       "                <dd><code>TestePySpark</code></dd>\n",
       "            </dl>\n",
       "        </div>\n",
       "        "
      ],
      "text/plain": [
       "<SparkContext master=local[*] appName=TestePySpark>"
      ]
     },
     "execution_count": 6,
     "metadata": {},
     "output_type": "execute_result"
    }
   ],
   "source": [
    "sc"
   ]
  },
  {
   "cell_type": "markdown",
   "id": "a3aa428a",
   "metadata": {},
   "source": [
    "<br>\n",
    "\n",
    "## Configuração dos Dados e Funções"
   ]
  },
  {
   "cell_type": "code",
   "execution_count": 7,
   "id": "ac3ab624",
   "metadata": {},
   "outputs": [],
   "source": [
    "numero_amostras = 1000000"
   ]
  },
  {
   "cell_type": "code",
   "execution_count": 8,
   "id": "211361d0",
   "metadata": {},
   "outputs": [],
   "source": [
    "# Função para gerar valores randômicos\n",
    "def gera_numeros(p):     \n",
    "    x, y = random.random(), random.random()\n",
    "    return x*x + y*y < 1"
   ]
  },
  {
   "cell_type": "code",
   "execution_count": 9,
   "id": "70cda04a",
   "metadata": {},
   "outputs": [
    {
     "name": "stderr",
     "output_type": "stream",
     "text": [
      "24/07/10 12:50:48 INFO SparkContext: Starting job: count at /tmp/ipykernel_372577/2952187543.py:2\n",
      "24/07/10 12:50:48 INFO DAGScheduler: Got job 0 (count at /tmp/ipykernel_372577/2952187543.py:2) with 12 output partitions\n",
      "24/07/10 12:50:48 INFO DAGScheduler: Final stage: ResultStage 0 (count at /tmp/ipykernel_372577/2952187543.py:2)\n",
      "24/07/10 12:50:48 INFO DAGScheduler: Parents of final stage: List()\n",
      "24/07/10 12:50:48 INFO DAGScheduler: Missing parents: List()\n",
      "24/07/10 12:50:48 INFO DAGScheduler: Submitting ResultStage 0 (PythonRDD[1] at count at /tmp/ipykernel_372577/2952187543.py:2), which has no missing parents\n",
      "24/07/10 12:50:48 INFO MemoryStore: Block broadcast_0 stored as values in memory (estimated size 8.9 KiB, free 434.4 MiB)\n",
      "24/07/10 12:50:49 INFO MemoryStore: Block broadcast_0_piece0 stored as bytes in memory (estimated size 5.3 KiB, free 434.4 MiB)\n",
      "24/07/10 12:50:49 INFO BlockManagerInfo: Added broadcast_0_piece0 in memory on 192.168.0.13:45143 (size: 5.3 KiB, free: 434.4 MiB)\n",
      "24/07/10 12:50:49 INFO SparkContext: Created broadcast 0 from broadcast at DAGScheduler.scala:1585\n",
      "24/07/10 12:50:49 INFO DAGScheduler: Submitting 12 missing tasks from ResultStage 0 (PythonRDD[1] at count at /tmp/ipykernel_372577/2952187543.py:2) (first 15 tasks are for partitions Vector(0, 1, 2, 3, 4, 5, 6, 7, 8, 9, 10, 11))\n",
      "24/07/10 12:50:49 INFO TaskSchedulerImpl: Adding task set 0.0 with 12 tasks resource profile 0\n",
      "24/07/10 12:50:49 INFO TaskSetManager: Starting task 0.0 in stage 0.0 (TID 0) (192.168.0.13, executor driver, partition 0, PROCESS_LOCAL, 7595 bytes) \n",
      "24/07/10 12:50:49 INFO TaskSetManager: Starting task 1.0 in stage 0.0 (TID 1) (192.168.0.13, executor driver, partition 1, PROCESS_LOCAL, 7595 bytes) \n",
      "24/07/10 12:50:49 INFO TaskSetManager: Starting task 2.0 in stage 0.0 (TID 2) (192.168.0.13, executor driver, partition 2, PROCESS_LOCAL, 7595 bytes) \n",
      "24/07/10 12:50:49 INFO TaskSetManager: Starting task 3.0 in stage 0.0 (TID 3) (192.168.0.13, executor driver, partition 3, PROCESS_LOCAL, 7595 bytes) \n",
      "24/07/10 12:50:49 INFO TaskSetManager: Starting task 4.0 in stage 0.0 (TID 4) (192.168.0.13, executor driver, partition 4, PROCESS_LOCAL, 7595 bytes) \n",
      "24/07/10 12:50:49 INFO TaskSetManager: Starting task 5.0 in stage 0.0 (TID 5) (192.168.0.13, executor driver, partition 5, PROCESS_LOCAL, 7595 bytes) \n",
      "24/07/10 12:50:49 INFO TaskSetManager: Starting task 6.0 in stage 0.0 (TID 6) (192.168.0.13, executor driver, partition 6, PROCESS_LOCAL, 7595 bytes) \n",
      "24/07/10 12:50:49 INFO TaskSetManager: Starting task 7.0 in stage 0.0 (TID 7) (192.168.0.13, executor driver, partition 7, PROCESS_LOCAL, 7595 bytes) \n",
      "24/07/10 12:50:49 INFO TaskSetManager: Starting task 8.0 in stage 0.0 (TID 8) (192.168.0.13, executor driver, partition 8, PROCESS_LOCAL, 7595 bytes) \n",
      "24/07/10 12:50:49 INFO TaskSetManager: Starting task 9.0 in stage 0.0 (TID 9) (192.168.0.13, executor driver, partition 9, PROCESS_LOCAL, 7595 bytes) \n",
      "24/07/10 12:50:49 INFO TaskSetManager: Starting task 10.0 in stage 0.0 (TID 10) (192.168.0.13, executor driver, partition 10, PROCESS_LOCAL, 7595 bytes) \n",
      "24/07/10 12:50:49 INFO TaskSetManager: Starting task 11.0 in stage 0.0 (TID 11) (192.168.0.13, executor driver, partition 11, PROCESS_LOCAL, 7595 bytes) \n",
      "24/07/10 12:50:49 INFO Executor: Running task 3.0 in stage 0.0 (TID 3)\n",
      "24/07/10 12:50:49 INFO Executor: Running task 8.0 in stage 0.0 (TID 8)\n",
      "24/07/10 12:50:49 INFO Executor: Running task 10.0 in stage 0.0 (TID 10)\n",
      "24/07/10 12:50:49 INFO Executor: Running task 9.0 in stage 0.0 (TID 9)\n",
      "24/07/10 12:50:49 INFO Executor: Running task 5.0 in stage 0.0 (TID 5)\n",
      "24/07/10 12:50:49 INFO Executor: Running task 6.0 in stage 0.0 (TID 6)\n",
      "24/07/10 12:50:49 INFO Executor: Running task 11.0 in stage 0.0 (TID 11)\n",
      "24/07/10 12:50:49 INFO Executor: Running task 0.0 in stage 0.0 (TID 0)\n",
      "24/07/10 12:50:49 INFO Executor: Running task 7.0 in stage 0.0 (TID 7)\n",
      "24/07/10 12:50:49 INFO Executor: Running task 2.0 in stage 0.0 (TID 2)\n",
      "24/07/10 12:50:49 INFO Executor: Running task 1.0 in stage 0.0 (TID 1)\n",
      "24/07/10 12:50:49 INFO Executor: Running task 4.0 in stage 0.0 (TID 4)\n",
      "24/07/10 12:50:50 INFO PythonRunner: Times: total = 803, boot = 687, init = 55, finish = 61\n",
      "24/07/10 12:50:50 INFO PythonRunner: Times: total = 805, boot = 695, init = 46, finish = 64\n",
      "24/07/10 12:50:50 INFO PythonRunner: Times: total = 808, boot = 700, init = 50, finish = 58\n",
      "24/07/10 12:50:50 INFO PythonRunner: Times: total = 811, boot = 708, init = 46, finish = 57\n",
      "24/07/10 12:50:50 INFO PythonRunner: Times: total = 833, boot = 713, init = 48, finish = 72\n",
      "24/07/10 12:50:50 INFO PythonRunner: Times: total = 836, boot = 722, init = 43, finish = 71\n",
      "24/07/10 12:50:50 INFO PythonRunner: Times: total = 841, boot = 704, init = 46, finish = 91\n",
      "24/07/10 12:50:50 INFO Executor: Finished task 1.0 in stage 0.0 (TID 1). 1324 bytes result sent to driver\n",
      "24/07/10 12:50:50 INFO Executor: Finished task 6.0 in stage 0.0 (TID 6). 1369 bytes result sent to driver\n",
      "24/07/10 12:50:50 INFO Executor: Finished task 10.0 in stage 0.0 (TID 10). 1367 bytes result sent to driver\n",
      "24/07/10 12:50:50 INFO PythonRunner: Times: total = 849, boot = 717, init = 48, finish = 84\n",
      "24/07/10 12:50:50 INFO PythonRunner: Times: total = 850, boot = 683, init = 58, finish = 109\n",
      "24/07/10 12:50:50 INFO PythonRunner: Times: total = 850, boot = 691, init = 50, finish = 109\n",
      "24/07/10 12:50:50 INFO Executor: Finished task 5.0 in stage 0.0 (TID 5). 1367 bytes result sent to driver\n",
      "24/07/10 12:50:50 INFO PythonRunner: Times: total = 864, boot = 726, init = 51, finish = 87\n",
      "24/07/10 12:50:50 INFO Executor: Finished task 7.0 in stage 0.0 (TID 7). 1367 bytes result sent to driver\n",
      "24/07/10 12:50:50 INFO Executor: Finished task 4.0 in stage 0.0 (TID 4). 1367 bytes result sent to driver\n",
      "24/07/10 12:50:50 INFO Executor: Finished task 3.0 in stage 0.0 (TID 3). 1367 bytes result sent to driver\n",
      "24/07/10 12:50:50 INFO Executor: Finished task 2.0 in stage 0.0 (TID 2). 1369 bytes result sent to driver\n",
      "24/07/10 12:50:50 INFO Executor: Finished task 11.0 in stage 0.0 (TID 11). 1367 bytes result sent to driver\n",
      "24/07/10 12:50:50 INFO Executor: Finished task 9.0 in stage 0.0 (TID 9). 1369 bytes result sent to driver\n",
      "24/07/10 12:50:50 INFO PythonRunner: Times: total = 886, boot = 731, init = 50, finish = 105\n",
      "24/07/10 12:50:50 INFO Executor: Finished task 0.0 in stage 0.0 (TID 0). 1369 bytes result sent to driver\n",
      "24/07/10 12:50:50 INFO Executor: Finished task 8.0 in stage 0.0 (TID 8). 1324 bytes result sent to driver\n",
      "24/07/10 12:50:50 INFO TaskSetManager: Finished task 10.0 in stage 0.0 (TID 10) in 1054 ms on 192.168.0.13 (executor driver) (1/12)\n",
      "24/07/10 12:50:50 INFO TaskSetManager: Finished task 1.0 in stage 0.0 (TID 1) in 1071 ms on 192.168.0.13 (executor driver) (2/12)\n",
      "24/07/10 12:50:50 INFO TaskSetManager: Finished task 3.0 in stage 0.0 (TID 3) in 1069 ms on 192.168.0.13 (executor driver) (3/12)\n",
      "24/07/10 12:50:50 INFO TaskSetManager: Finished task 5.0 in stage 0.0 (TID 5) in 1067 ms on 192.168.0.13 (executor driver) (4/12)\n",
      "24/07/10 12:50:50 INFO TaskSetManager: Finished task 2.0 in stage 0.0 (TID 2) in 1072 ms on 192.168.0.13 (executor driver) (5/12)\n",
      "24/07/10 12:50:50 INFO TaskSetManager: Finished task 6.0 in stage 0.0 (TID 6) in 1067 ms on 192.168.0.13 (executor driver) (6/12)\n",
      "24/07/10 12:50:50 INFO TaskSetManager: Finished task 11.0 in stage 0.0 (TID 11) in 1062 ms on 192.168.0.13 (executor driver) (7/12)\n",
      "24/07/10 12:50:50 INFO TaskSetManager: Finished task 9.0 in stage 0.0 (TID 9) in 1065 ms on 192.168.0.13 (executor driver) (8/12)\n",
      "24/07/10 12:50:50 INFO TaskSetManager: Finished task 8.0 in stage 0.0 (TID 8) in 1068 ms on 192.168.0.13 (executor driver) (9/12)\n",
      "24/07/10 12:50:50 INFO TaskSetManager: Finished task 0.0 in stage 0.0 (TID 0) in 1110 ms on 192.168.0.13 (executor driver) (10/12)\n",
      "24/07/10 12:50:50 INFO TaskSetManager: Finished task 7.0 in stage 0.0 (TID 7) in 1070 ms on 192.168.0.13 (executor driver) (11/12)\n",
      "24/07/10 12:50:50 INFO TaskSetManager: Finished task 4.0 in stage 0.0 (TID 4) in 1076 ms on 192.168.0.13 (executor driver) (12/12)\n",
      "24/07/10 12:50:50 INFO TaskSchedulerImpl: Removed TaskSet 0.0, whose tasks have all completed, from pool \n",
      "24/07/10 12:50:50 INFO PythonAccumulatorV2: Connected to AccumulatorServer at host: 127.0.0.1 port: 46997\n",
      "24/07/10 12:50:50 INFO DAGScheduler: ResultStage 0 (count at /tmp/ipykernel_372577/2952187543.py:2) finished in 1,366 s\n",
      "24/07/10 12:50:50 INFO DAGScheduler: Job 0 is finished. Cancelling potential speculative or zombie tasks for this job\n",
      "24/07/10 12:50:50 INFO TaskSchedulerImpl: Killing all running tasks in stage 0: Stage finished\n",
      "24/07/10 12:50:50 INFO DAGScheduler: Job 0 finished: count at /tmp/ipykernel_372577/2952187543.py:2, took 1,424341 s\n",
      "                                                                                \r"
     ]
    }
   ],
   "source": [
    "# Função parallelize() executa paralelização de operações\n",
    "contagem = sc.parallelize(range(0, numero_amostras)).filter(gera_numeros).count()"
   ]
  },
  {
   "cell_type": "code",
   "execution_count": 10,
   "id": "e3d526aa",
   "metadata": {},
   "outputs": [],
   "source": [
    "valor_pi = 4 * contagem / numero_amostras"
   ]
  },
  {
   "cell_type": "code",
   "execution_count": 11,
   "id": "60d63f9e",
   "metadata": {},
   "outputs": [
    {
     "name": "stdout",
     "output_type": "stream",
     "text": [
      "3.143696\n"
     ]
    }
   ],
   "source": [
    "print(valor_pi)"
   ]
  },
  {
   "cell_type": "code",
   "execution_count": 12,
   "id": "c7a1b154",
   "metadata": {},
   "outputs": [
    {
     "name": "stderr",
     "output_type": "stream",
     "text": [
      "24/07/10 12:51:03 INFO SparkContext: SparkContext is stopping with exitCode 0.\n",
      "24/07/10 12:51:03 INFO SparkUI: Stopped Spark web UI at http://192.168.0.13:4040\n",
      "24/07/10 12:51:03 INFO MapOutputTrackerMasterEndpoint: MapOutputTrackerMasterEndpoint stopped!\n",
      "24/07/10 12:51:03 INFO MemoryStore: MemoryStore cleared\n",
      "24/07/10 12:51:03 INFO BlockManager: BlockManager stopped\n",
      "24/07/10 12:51:03 INFO BlockManagerMaster: BlockManagerMaster stopped\n",
      "24/07/10 12:51:03 INFO OutputCommitCoordinator$OutputCommitCoordinatorEndpoint: OutputCommitCoordinator stopped!\n",
      "24/07/10 12:51:03 INFO SparkContext: Successfully stopped SparkContext\n"
     ]
    }
   ],
   "source": [
    "sc.stop()"
   ]
  },
  {
   "cell_type": "markdown",
   "id": "257014c3",
   "metadata": {},
   "source": [
    "# Fim"
   ]
  }
 ],
 "metadata": {
  "kernelspec": {
   "display_name": "Python 3 (ipykernel)",
   "language": "python",
   "name": "python3"
  },
  "language_info": {
   "codemirror_mode": {
    "name": "ipython",
    "version": 3
   },
   "file_extension": ".py",
   "mimetype": "text/x-python",
   "name": "python",
   "nbconvert_exporter": "python",
   "pygments_lexer": "ipython3",
   "version": "3.9.7"
  }
 },
 "nbformat": 4,
 "nbformat_minor": 5
}
